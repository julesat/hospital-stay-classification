{
 "cells": [
  {
   "cell_type": "code",
   "execution_count": 1,
   "metadata": {},
   "outputs": [],
   "source": [
    "import numpy as np\n",
    "import pandas as pd\n",
    "import seaborn as sns\n",
    "import matplotlib.pyplot as plt\n",
    "import re\n",
    "import pickle\n",
    "import dataframe_image as dfi\n",
    "\n",
    "from sklearn.tree import DecisionTreeClassifier\n",
    "from sklearn.linear_model import LogisticRegression, LogisticRegressionCV\n",
    "from sklearn.neighbors import KNeighborsClassifier\n",
    "from sklearn.ensemble import RandomForestClassifier, ExtraTreesClassifier\n",
    "from sklearn.metrics import f1_score, accuracy_score, precision_score, recall_score, \\\n",
    "        confusion_matrix, ConfusionMatrixDisplay\n",
    "from sklearn.model_selection import train_test_split, RandomizedSearchCV, KFold, cross_val_score\n",
    "from sklearn.preprocessing import StandardScaler\n",
    "\n",
    "import imblearn.over_sampling\n",
    "from imblearn.pipeline import Pipeline\n",
    "\n",
    "from xgboost import XGBClassifier\n",
    "import xgboost as xgb"
   ]
  },
  {
   "cell_type": "code",
   "execution_count": 4,
   "metadata": {},
   "outputs": [],
   "source": [
    "train = pd.read_csv('./healthcare/train_data.csv')"
   ]
  },
  {
   "cell_type": "markdown",
   "metadata": {},
   "source": [
    "### Notebook contents\n",
    "\n",
    ">1. Initial data cleaning\n",
    "2. Training classifier algorithms\n",
    "3. Random Forest hyperparameter tuning\n",
    "4. Comparing all model results\n",
    "5. Testing holdout set predictions"
   ]
  },
  {
   "cell_type": "markdown",
   "metadata": {},
   "source": [
    "## 1. Initial data cleaning"
   ]
  },
  {
   "cell_type": "code",
   "execution_count": 5,
   "metadata": {},
   "outputs": [],
   "source": [
    "train = train.rename(columns={'City_Code_Hospital': 'Hospital_city_code',\n",
    "                              'Available Extra Rooms in Hospital': 'Extra_rooms',\n",
    "                              'Bed Grade': 'Bed_grade',\n",
    "                              'City_Code_Patient': 'Patient_city_code',\n",
    "                              'Type of Admission': 'Admission_type',\n",
    "                              'Severity of Illness': 'Severity',\n",
    "                              'Visitors with Patient': 'Visitors'\n",
    "                             })\n",
    "train.columns = train.columns.str.lower()"
   ]
  },
  {
   "cell_type": "code",
   "execution_count": 6,
   "metadata": {},
   "outputs": [
    {
     "data": {
      "text/html": [
       "<div>\n",
       "<style scoped>\n",
       "    .dataframe tbody tr th:only-of-type {\n",
       "        vertical-align: middle;\n",
       "    }\n",
       "\n",
       "    .dataframe tbody tr th {\n",
       "        vertical-align: top;\n",
       "    }\n",
       "\n",
       "    .dataframe thead th {\n",
       "        text-align: right;\n",
       "    }\n",
       "</style>\n",
       "<table border=\"1\" class=\"dataframe\">\n",
       "  <thead>\n",
       "    <tr style=\"text-align: right;\">\n",
       "      <th></th>\n",
       "      <th>case_id</th>\n",
       "      <th>hospital_code</th>\n",
       "      <th>hospital_type_code</th>\n",
       "      <th>hospital_city_code</th>\n",
       "      <th>hospital_region_code</th>\n",
       "      <th>extra_rooms</th>\n",
       "      <th>department</th>\n",
       "      <th>ward_type</th>\n",
       "      <th>ward_facility_code</th>\n",
       "      <th>bed_grade</th>\n",
       "      <th>patientid</th>\n",
       "      <th>patient_city_code</th>\n",
       "      <th>admission_type</th>\n",
       "      <th>severity</th>\n",
       "      <th>visitors</th>\n",
       "      <th>age</th>\n",
       "      <th>admission_deposit</th>\n",
       "      <th>stay</th>\n",
       "    </tr>\n",
       "  </thead>\n",
       "  <tbody>\n",
       "    <tr>\n",
       "      <th>0</th>\n",
       "      <td>1</td>\n",
       "      <td>8</td>\n",
       "      <td>c</td>\n",
       "      <td>3</td>\n",
       "      <td>Z</td>\n",
       "      <td>3</td>\n",
       "      <td>radiotherapy</td>\n",
       "      <td>R</td>\n",
       "      <td>F</td>\n",
       "      <td>2.0</td>\n",
       "      <td>31397</td>\n",
       "      <td>7.0</td>\n",
       "      <td>Emergency</td>\n",
       "      <td>Extreme</td>\n",
       "      <td>2</td>\n",
       "      <td>51-60</td>\n",
       "      <td>4911.0</td>\n",
       "      <td>0-10</td>\n",
       "    </tr>\n",
       "    <tr>\n",
       "      <th>1</th>\n",
       "      <td>2</td>\n",
       "      <td>2</td>\n",
       "      <td>c</td>\n",
       "      <td>5</td>\n",
       "      <td>Z</td>\n",
       "      <td>2</td>\n",
       "      <td>radiotherapy</td>\n",
       "      <td>S</td>\n",
       "      <td>F</td>\n",
       "      <td>2.0</td>\n",
       "      <td>31397</td>\n",
       "      <td>7.0</td>\n",
       "      <td>Trauma</td>\n",
       "      <td>Extreme</td>\n",
       "      <td>2</td>\n",
       "      <td>51-60</td>\n",
       "      <td>5954.0</td>\n",
       "      <td>41-50</td>\n",
       "    </tr>\n",
       "    <tr>\n",
       "      <th>2</th>\n",
       "      <td>3</td>\n",
       "      <td>10</td>\n",
       "      <td>e</td>\n",
       "      <td>1</td>\n",
       "      <td>X</td>\n",
       "      <td>2</td>\n",
       "      <td>anesthesia</td>\n",
       "      <td>S</td>\n",
       "      <td>E</td>\n",
       "      <td>2.0</td>\n",
       "      <td>31397</td>\n",
       "      <td>7.0</td>\n",
       "      <td>Trauma</td>\n",
       "      <td>Extreme</td>\n",
       "      <td>2</td>\n",
       "      <td>51-60</td>\n",
       "      <td>4745.0</td>\n",
       "      <td>31-40</td>\n",
       "    </tr>\n",
       "    <tr>\n",
       "      <th>3</th>\n",
       "      <td>4</td>\n",
       "      <td>26</td>\n",
       "      <td>b</td>\n",
       "      <td>2</td>\n",
       "      <td>Y</td>\n",
       "      <td>2</td>\n",
       "      <td>radiotherapy</td>\n",
       "      <td>R</td>\n",
       "      <td>D</td>\n",
       "      <td>2.0</td>\n",
       "      <td>31397</td>\n",
       "      <td>7.0</td>\n",
       "      <td>Trauma</td>\n",
       "      <td>Extreme</td>\n",
       "      <td>2</td>\n",
       "      <td>51-60</td>\n",
       "      <td>7272.0</td>\n",
       "      <td>41-50</td>\n",
       "    </tr>\n",
       "    <tr>\n",
       "      <th>4</th>\n",
       "      <td>5</td>\n",
       "      <td>26</td>\n",
       "      <td>b</td>\n",
       "      <td>2</td>\n",
       "      <td>Y</td>\n",
       "      <td>2</td>\n",
       "      <td>radiotherapy</td>\n",
       "      <td>S</td>\n",
       "      <td>D</td>\n",
       "      <td>2.0</td>\n",
       "      <td>31397</td>\n",
       "      <td>7.0</td>\n",
       "      <td>Trauma</td>\n",
       "      <td>Extreme</td>\n",
       "      <td>2</td>\n",
       "      <td>51-60</td>\n",
       "      <td>5558.0</td>\n",
       "      <td>41-50</td>\n",
       "    </tr>\n",
       "  </tbody>\n",
       "</table>\n",
       "</div>"
      ],
      "text/plain": [
       "   case_id  hospital_code hospital_type_code  hospital_city_code  \\\n",
       "0        1              8                  c                   3   \n",
       "1        2              2                  c                   5   \n",
       "2        3             10                  e                   1   \n",
       "3        4             26                  b                   2   \n",
       "4        5             26                  b                   2   \n",
       "\n",
       "  hospital_region_code  extra_rooms    department ward_type  \\\n",
       "0                    Z            3  radiotherapy         R   \n",
       "1                    Z            2  radiotherapy         S   \n",
       "2                    X            2    anesthesia         S   \n",
       "3                    Y            2  radiotherapy         R   \n",
       "4                    Y            2  radiotherapy         S   \n",
       "\n",
       "  ward_facility_code  bed_grade  patientid  patient_city_code admission_type  \\\n",
       "0                  F        2.0      31397                7.0      Emergency   \n",
       "1                  F        2.0      31397                7.0         Trauma   \n",
       "2                  E        2.0      31397                7.0         Trauma   \n",
       "3                  D        2.0      31397                7.0         Trauma   \n",
       "4                  D        2.0      31397                7.0         Trauma   \n",
       "\n",
       "  severity  visitors    age  admission_deposit   stay  \n",
       "0  Extreme         2  51-60             4911.0   0-10  \n",
       "1  Extreme         2  51-60             5954.0  41-50  \n",
       "2  Extreme         2  51-60             4745.0  31-40  \n",
       "3  Extreme         2  51-60             7272.0  41-50  \n",
       "4  Extreme         2  51-60             5558.0  41-50  "
      ]
     },
     "execution_count": 6,
     "metadata": {},
     "output_type": "execute_result"
    }
   ],
   "source": [
    "train.head()"
   ]
  },
  {
   "cell_type": "code",
   "execution_count": 7,
   "metadata": {},
   "outputs": [
    {
     "name": "stdout",
     "output_type": "stream",
     "text": [
      "<class 'pandas.core.frame.DataFrame'>\n",
      "RangeIndex: 318438 entries, 0 to 318437\n",
      "Data columns (total 18 columns):\n",
      " #   Column                Non-Null Count   Dtype  \n",
      "---  ------                --------------   -----  \n",
      " 0   case_id               318438 non-null  int64  \n",
      " 1   hospital_code         318438 non-null  int64  \n",
      " 2   hospital_type_code    318438 non-null  object \n",
      " 3   hospital_city_code    318438 non-null  int64  \n",
      " 4   hospital_region_code  318438 non-null  object \n",
      " 5   extra_rooms           318438 non-null  int64  \n",
      " 6   department            318438 non-null  object \n",
      " 7   ward_type             318438 non-null  object \n",
      " 8   ward_facility_code    318438 non-null  object \n",
      " 9   bed_grade             318325 non-null  float64\n",
      " 10  patientid             318438 non-null  int64  \n",
      " 11  patient_city_code     313906 non-null  float64\n",
      " 12  admission_type        318438 non-null  object \n",
      " 13  severity              318438 non-null  object \n",
      " 14  visitors              318438 non-null  int64  \n",
      " 15  age                   318438 non-null  object \n",
      " 16  admission_deposit     318438 non-null  float64\n",
      " 17  stay                  318438 non-null  object \n",
      "dtypes: float64(3), int64(6), object(9)\n",
      "memory usage: 43.7+ MB\n"
     ]
    }
   ],
   "source": [
    "train.info()"
   ]
  },
  {
   "cell_type": "code",
   "execution_count": 8,
   "metadata": {},
   "outputs": [
    {
     "data": {
      "text/plain": [
       "((318438, 18), (318438, 18))"
      ]
     },
     "execution_count": 8,
     "metadata": {},
     "output_type": "execute_result"
    }
   ],
   "source": [
    "# no duplicates\n",
    "train.shape, train.drop_duplicates().shape"
   ]
  },
  {
   "cell_type": "code",
   "execution_count": 9,
   "metadata": {},
   "outputs": [],
   "source": [
    "# hold out 20%\n",
    "\n",
    "train, holdout, y_train, y_holdout = train_test_split(train.drop('stay', axis=1), train['stay'], \n",
    "                                                   test_size=0.2, stratify=train['stay'])"
   ]
  },
  {
   "cell_type": "code",
   "execution_count": 10,
   "metadata": {},
   "outputs": [
    {
     "data": {
      "text/plain": [
       "bed_grade              84\n",
       "patient_city_code    3616\n",
       "dtype: int64"
      ]
     },
     "execution_count": 10,
     "metadata": {},
     "output_type": "execute_result"
    }
   ],
   "source": [
    "# columns with null values\n",
    "\n",
    "num_missing = train.loc[:,train.isna().any()].isna().sum()\n",
    "num_missing"
   ]
  },
  {
   "cell_type": "code",
   "execution_count": 11,
   "metadata": {},
   "outputs": [
    {
     "data": {
      "text/plain": [
       "<matplotlib.axes._subplots.AxesSubplot at 0x7fb61cbbc9a0>"
      ]
     },
     "execution_count": 11,
     "metadata": {},
     "output_type": "execute_result"
    },
    {
     "data": {
      "image/png": "[encoded data removed]",
      "text/plain": [
       "<Figure size 432x288 with 1 Axes>"
      ]
     },
     "metadata": {
      "needs_background": "light"
     },
     "output_type": "display_data"
    }
   ],
   "source": [
    "train.bed_grade.value_counts().sort_index().plot(kind='bar')"
   ]
  },
  {
   "cell_type": "code",
   "execution_count": 12,
   "metadata": {},
   "outputs": [],
   "source": [
    "# replacing missing values with a random sample from non-null values\n",
    "for df in [train, holdout]:\n",
    "    num_missing = df.loc[:,df.isna().any()].isna().sum()[0]\n",
    "    df.loc[df.bed_grade.isna(),'bed_grade'] = df.bed_grade.dropna().sample(n=num_missing).to_list()"
   ]
  },
  {
   "cell_type": "code",
   "execution_count": 13,
   "metadata": {},
   "outputs": [
    {
     "data": {
      "text/plain": [
       "<matplotlib.legend.Legend at 0x7fb61cb77580>"
      ]
     },
     "execution_count": 13,
     "metadata": {},
     "output_type": "execute_result"
    },
    {
     "data": {
      "image/png": "[encoded data removed]",
      "text/plain": [
       "<Figure size 720x432 with 1 Axes>"
      ]
     },
     "metadata": {
      "needs_background": "light"
     },
     "output_type": "display_data"
    }
   ],
   "source": [
    "# distribution of city code values\n",
    "\n",
    "fig, ax=plt.subplots(figsize=(10,6))\n",
    "df = train[['hospital_city_code', 'patient_city_code']].melt().dropna()\n",
    "df['value'] = df['value'].astype(int)\n",
    "sns.countplot(data=df, x='value', hue='variable',\n",
    "             ax=ax)\n",
    "plt.legend(loc='upper right')"
   ]
  },
  {
   "cell_type": "code",
   "execution_count": 14,
   "metadata": {},
   "outputs": [],
   "source": [
    "# Treat cities coded over 15 (fewer records in above distribution) as \"other\" to combine smaller categories\n",
    "for col in ['hospital_city_code', 'patient_city_code']:\n",
    "    train[col] = train[col].apply(lambda x: 16 if (x > 15 or pd.isna(x)) else x) \n",
    "    holdout[col] = holdout[col].apply(lambda x: 16 if (x > 15 or pd.isna(x)) else x) "
   ]
  },
  {
   "cell_type": "code",
   "execution_count": 15,
   "metadata": {},
   "outputs": [],
   "source": [
    "# Convert to categorical\n",
    "for df in [train, holdout]:\n",
    "    df[['hospital_city_code', 'patient_city_code']] = df[['hospital_city_code', \n",
    "                                                          'patient_city_code']].astype('object')"
   ]
  },
  {
   "cell_type": "code",
   "execution_count": 16,
   "metadata": {},
   "outputs": [],
   "source": [
    "# adding a feature: whether patients are being treated in their home city -- to be validated\n",
    "for df in [train, holdout]:\n",
    "    df['same_city'] = (df['hospital_city_code'] == df['patient_city_code']).astype(int)"
   ]
  },
  {
   "cell_type": "code",
   "execution_count": 17,
   "metadata": {},
   "outputs": [
    {
     "data": {
      "text/plain": [
       "0    235962\n",
       "1     18788\n",
       "Name: same_city, dtype: int64"
      ]
     },
     "execution_count": 17,
     "metadata": {},
     "output_type": "execute_result"
    }
   ],
   "source": [
    "train['same_city'].value_counts()"
   ]
  },
  {
   "cell_type": "code",
   "execution_count": 18,
   "metadata": {},
   "outputs": [
    {
     "data": {
      "text/plain": [
       "R    102439\n",
       "Q     84856\n",
       "S     62258\n",
       "P      3992\n",
       "T      1196\n",
       "U         9\n",
       "Name: ward_type, dtype: int64"
      ]
     },
     "execution_count": 18,
     "metadata": {},
     "output_type": "execute_result"
    }
   ],
   "source": [
    "train['ward_type'].value_counts()"
   ]
  },
  {
   "cell_type": "code",
   "execution_count": 19,
   "metadata": {},
   "outputs": [
    {
     "data": {
      "text/plain": [
       "gynecology            199537\n",
       "anesthesia             23742\n",
       "radiotherapy           22814\n",
       "TB & Chest disease      7697\n",
       "surgery                  960\n",
       "Name: department, dtype: int64"
      ]
     },
     "execution_count": 19,
     "metadata": {},
     "output_type": "execute_result"
    }
   ],
   "source": [
    "train['department'].value_counts()"
   ]
  },
  {
   "cell_type": "code",
   "execution_count": 20,
   "metadata": {},
   "outputs": [
    {
     "data": {
      "image/png": "[encoded data removed]",
      "text/plain": [
       "<Figure size 576x432 with 1 Axes>"
      ]
     },
     "metadata": {
      "needs_background": "light"
     },
     "output_type": "display_data"
    }
   ],
   "source": [
    "# Target variable distribution\n",
    "y_train.value_counts(normalize=True).sort_index().plot(kind='bar', figsize=(8,6))\n",
    "plt.rc('font', size=16)\n",
    "ax = plt.gca()\n",
    "xticklabels = y_train.value_counts().sort_index().index\n",
    "ax.set_xticklabels(xticklabels, rotation=45)\n",
    "ax.spines['right'].set_visible(False)\n",
    "ax.spines['top'].set_visible(False)\n",
    "plt.xlabel('Length of Stay')\n",
    "plt.ylabel('Frequency')\n",
    "plt.tight_layout()\n",
    "plt.savefig('target_distribution')"
   ]
  },
  {
   "cell_type": "code",
   "execution_count": 21,
   "metadata": {},
   "outputs": [],
   "source": [
    "def code_binary_target(target, threshold_idx):\n",
    "    # divides target variable into two classes, splitting sorted labels at threshold_idx\n",
    "    \n",
    "    stay_values = np.sort(target.unique())\n",
    "\n",
    "    short_stays = stay_values[:threshold_idx]\n",
    "    long_stays = stay_values[threshold_idx:]\n",
    "\n",
    "    target = target.apply(lambda x: 0 if x in short_stays else 1)\n",
    "    \n",
    "    # plot the new 2-category distribution\n",
    "    xs = [0,1]\n",
    "    bp = target.value_counts(normalize=True).sort_index().plot(kind='bar')\n",
    "    for i in xs:\n",
    "        plt.text(i, bp.patches[i].get_height()+0.01, np.round(bp.patches[i].get_height(),3), ha = 'center')\n",
    "    plt.ylabel('Percent of target labels')\n",
    "    plt.tight_layout()\n",
    "    \n",
    "    return target"
   ]
  },
  {
   "cell_type": "code",
   "execution_count": 22,
   "metadata": {},
   "outputs": [
    {
     "data": {
      "image/png": "[encoded data removed]",
      "text/plain": [
       "<Figure size 432x288 with 1 Axes>"
      ]
     },
     "metadata": {
      "needs_background": "light"
     },
     "output_type": "display_data"
    }
   ],
   "source": [
    "# setting the \"long stay\" cutoff\n",
    "\n",
    "y_holdout = code_binary_target(y_holdout, threshold_idx=2)\n",
    "y_train = code_binary_target(y_train, threshold_idx=2)\n",
    "ax = plt.gca()\n",
    "ax.spines['right'].set_visible(False)\n",
    "ax.spines['top'].set_visible(False)\n",
    "ax.set_xticklabels(['Short stay', 'Long stay'], rotation=0)\n",
    "plt.tight_layout()\n",
    "plt.savefig('target_binary_distribution.png')"
   ]
  },
  {
   "cell_type": "code",
   "execution_count": 23,
   "metadata": {},
   "outputs": [],
   "source": [
    "# using the patientid to add the number of previous visits as a feature\n",
    "\n",
    "for df in [train, holdout]:\n",
    "    df['visit_number'] = df.groupby('patientid').cumcount()\n",
    "    df.drop(['case_id', 'patientid'], axis=1, inplace=True)"
   ]
  },
  {
   "cell_type": "code",
   "execution_count": 24,
   "metadata": {},
   "outputs": [],
   "source": [
    "# ordinal coding for severity of illness\n",
    "\n",
    "for df in [train, holdout]:\n",
    "    df['severity'] = df['severity'].map({'Minor': 1, 'Moderate': 2, 'Extreme': 3})"
   ]
  },
  {
   "cell_type": "code",
   "execution_count": 25,
   "metadata": {},
   "outputs": [
    {
     "data": {
      "text/plain": [
       "<matplotlib.axes._subplots.AxesSubplot at 0x7fb61ca9d5e0>"
      ]
     },
     "execution_count": 25,
     "metadata": {},
     "output_type": "execute_result"
    },
    {
     "data": {
      "image/png": "[encoded data removed]",
      "text/plain": [
       "<Figure size 432x288 with 1 Axes>"
      ]
     },
     "metadata": {
      "needs_background": "light"
     },
     "output_type": "display_data"
    }
   ],
   "source": [
    "# patient age distribution\n",
    "\n",
    "train['age'].value_counts().sort_index().plot(kind='bar')"
   ]
  },
  {
   "cell_type": "code",
   "execution_count": 26,
   "metadata": {},
   "outputs": [],
   "source": [
    "# converting age range string to numeric\n",
    "\n",
    "for df in [train, holdout]:\n",
    "    df['age_decades'] = df['age'].str.split('-').apply(lambda x: int(x[0])//10)\n",
    "    df.drop('age', axis=1, inplace=True)\n"
   ]
  },
  {
   "cell_type": "code",
   "execution_count": 27,
   "metadata": {},
   "outputs": [],
   "source": [
    "# Visitors over time leaks info on length of stay\n",
    "\n",
    "for df in [train, holdout]:\n",
    "    df = df.drop('visitors', axis=1, inplace=True)\n"
   ]
  },
  {
   "cell_type": "code",
   "execution_count": 28,
   "metadata": {},
   "outputs": [],
   "source": [
    "train = pd.get_dummies(train.dropna(axis=0), drop_first=True)\n",
    "holdout = pd.get_dummies(holdout.dropna(axis=0), drop_first=True)"
   ]
  },
  {
   "cell_type": "code",
   "execution_count": 29,
   "metadata": {},
   "outputs": [
    {
     "data": {
      "image/png": "[encoded data removed]",
      "text/plain": [
       "<Figure size 720x720 with 2 Axes>"
      ]
     },
     "metadata": {
      "needs_background": "light"
     },
     "output_type": "display_data"
    }
   ],
   "source": [
    "plt.figure(figsize=(10,10))\n",
    "plt.rc('font', size=14)\n",
    "\n",
    "cmap = sns.diverging_palette(230, 20, as_cmap=True)\n",
    "mask = np.triu(np.ones_like(train.corr(), dtype=bool))\n",
    "sns.heatmap(train.corr(), mask=mask, cmap=cmap, vmax=0.5, center=0,\n",
    "            square=True, linewidths=.5, cbar_kws={\"shrink\": .5})\n",
    "plt.tight_layout()\n",
    "plt.savefig('correlation_heatmap.png')"
   ]
  },
  {
   "cell_type": "code",
   "execution_count": 30,
   "metadata": {},
   "outputs": [
    {
     "data": {
      "text/html": [
       "<div>\n",
       "<style scoped>\n",
       "    .dataframe tbody tr th:only-of-type {\n",
       "        vertical-align: middle;\n",
       "    }\n",
       "\n",
       "    .dataframe tbody tr th {\n",
       "        vertical-align: top;\n",
       "    }\n",
       "\n",
       "    .dataframe thead th {\n",
       "        text-align: right;\n",
       "    }\n",
       "</style>\n",
       "<table border=\"1\" class=\"dataframe\">\n",
       "  <thead>\n",
       "    <tr style=\"text-align: right;\">\n",
       "      <th></th>\n",
       "      <th>0</th>\n",
       "      <th>1</th>\n",
       "      <th>2</th>\n",
       "    </tr>\n",
       "  </thead>\n",
       "  <tbody>\n",
       "    <tr>\n",
       "      <th>4</th>\n",
       "      <td>ward_facility_code_C</td>\n",
       "      <td>hospital_city_code_7</td>\n",
       "      <td>1.000000</td>\n",
       "    </tr>\n",
       "    <tr>\n",
       "      <th>6</th>\n",
       "      <td>ward_facility_code_D</td>\n",
       "      <td>hospital_city_code_2</td>\n",
       "      <td>1.000000</td>\n",
       "    </tr>\n",
       "    <tr>\n",
       "      <th>3</th>\n",
       "      <td>ward_facility_code_B</td>\n",
       "      <td>hospital_city_code_9</td>\n",
       "      <td>0.850228</td>\n",
       "    </tr>\n",
       "    <tr>\n",
       "      <th>0</th>\n",
       "      <td>hospital_city_code_2</td>\n",
       "      <td>hospital_type_code_b</td>\n",
       "      <td>0.838490</td>\n",
       "    </tr>\n",
       "    <tr>\n",
       "      <th>5</th>\n",
       "      <td>ward_facility_code_D</td>\n",
       "      <td>hospital_type_code_b</td>\n",
       "      <td>0.838490</td>\n",
       "    </tr>\n",
       "    <tr>\n",
       "      <th>2</th>\n",
       "      <td>hospital_region_code_Z</td>\n",
       "      <td>hospital_type_code_c</td>\n",
       "      <td>0.828675</td>\n",
       "    </tr>\n",
       "    <tr>\n",
       "      <th>1</th>\n",
       "      <td>hospital_city_code_3</td>\n",
       "      <td>hospital_type_code_c</td>\n",
       "      <td>0.809924</td>\n",
       "    </tr>\n",
       "  </tbody>\n",
       "</table>\n",
       "</div>"
      ],
      "text/plain": [
       "                        0                     1         2\n",
       "4    ward_facility_code_C  hospital_city_code_7  1.000000\n",
       "6    ward_facility_code_D  hospital_city_code_2  1.000000\n",
       "3    ward_facility_code_B  hospital_city_code_9  0.850228\n",
       "0    hospital_city_code_2  hospital_type_code_b  0.838490\n",
       "5    ward_facility_code_D  hospital_type_code_b  0.838490\n",
       "2  hospital_region_code_Z  hospital_type_code_c  0.828675\n",
       "1    hospital_city_code_3  hospital_type_code_c  0.809924"
      ]
     },
     "execution_count": 30,
     "metadata": {},
     "output_type": "execute_result"
    }
   ],
   "source": [
    "# candidates of dummy variables to combine\n",
    "\n",
    "r, c = np.where(np.tril(train.corr(), k=-1)>0.8)\n",
    "\n",
    "pd.DataFrame([(train.columns[x[0]], train.columns[x[1]], np.tril(train.corr())[x[0], x[1]]) \n",
    "              for x in zip(r,c)]).sort_values(by=2, ascending=False)"
   ]
  },
  {
   "cell_type": "code",
   "execution_count": 31,
   "metadata": {},
   "outputs": [],
   "source": [
    "# drop redundant columns\n",
    "\n",
    "for df in [train, holdout]:\n",
    "    df.drop(['ward_facility_code_C', 'ward_facility_code_D', 'hospital_type_code_c'], axis=1, inplace=True)"
   ]
  },
  {
   "cell_type": "code",
   "execution_count": 32,
   "metadata": {},
   "outputs": [],
   "source": [
    "def combine_columns(df, col1, col2):\n",
    "    joined_col = (df[col1] | df[col2]).astype(int)\n",
    "    col_name = '_'.join([col1, col2])\n",
    "    col_name = re.sub(r'[Cc]ode_', '', col_name)\n",
    "\n",
    "    df[col_name] = joined_col\n",
    "    return df"
   ]
  },
  {
   "cell_type": "code",
   "execution_count": 33,
   "metadata": {},
   "outputs": [],
   "source": [
    "# combining highly correlated columns\n",
    "\n",
    "pair = ['ward_facility_code_B','hospital_city_code_9']\n",
    "\n",
    "train = combine_columns(train, pair[0], pair[1])\n",
    "holdout = combine_columns(holdout, pair[0], pair[1])\n",
    "\n",
    "for df in [train, holdout]:\n",
    "    df.drop(pair, axis=1, inplace=True)"
   ]
  },
  {
   "cell_type": "code",
   "execution_count": 34,
   "metadata": {},
   "outputs": [],
   "source": [
    "pair = ['hospital_type_code_b','hospital_city_code_2']\n",
    "\n",
    "train = combine_columns(train, pair[0], pair[1])\n",
    "holdout = combine_columns(holdout, pair[0], pair[1])\n",
    "\n",
    "for df in [train, holdout]:\n",
    "    df.drop(pair, axis=1, inplace=True)"
   ]
  },
  {
   "cell_type": "markdown",
   "metadata": {},
   "source": [
    "## 2. Training classifier algorithms"
   ]
  },
  {
   "cell_type": "code",
   "execution_count": 35,
   "metadata": {},
   "outputs": [],
   "source": [
    "X_train, X_test, y_train, y_test = train_test_split(train, y_train, test_size=0.3, stratify=y_train)"
   ]
  },
  {
   "cell_type": "code",
   "execution_count": 36,
   "metadata": {},
   "outputs": [],
   "source": [
    "scaler = StandardScaler()\n",
    "X_train_scaled = scaler.fit_transform(X_train)\n",
    "X_test_scaled = scaler.transform(X_test)"
   ]
  },
  {
   "cell_type": "code",
   "execution_count": 37,
   "metadata": {},
   "outputs": [],
   "source": [
    "# Oversampling minority outcome-- to be validated in a later step\n",
    "\n",
    "ratio = 1 - y_train.sum()/len(y_train)\n",
    "ROS = imblearn.over_sampling.RandomOverSampler(sampling_strategy = 0.9) \n",
    "    \n",
    "X_train_os, y_train_os = ROS.fit_resample(X_train, y_train)\n",
    "X_train_scaled_os, y_train_scaled_os = ROS.fit_resample(X_train_scaled, y_train)"
   ]
  },
  {
   "cell_type": "code",
   "execution_count": 38,
   "metadata": {},
   "outputs": [],
   "source": [
    "def plot_confusion_matrix(actual, pred, labels):\n",
    "    \n",
    "    cm = confusion_matrix(actual, pred, labels=labels)\n",
    "    ConfusionMatrixDisplay(confusion_matrix=cm,\n",
    "                              display_labels=labels).plot()\n",
    "    plt.savefig('confusion_matrix.png')"
   ]
  },
  {
   "cell_type": "code",
   "execution_count": 39,
   "metadata": {},
   "outputs": [],
   "source": [
    "def train_test_score(model, X, y):\n",
    "    # trains classifier on X_train, y_train\n",
    "    # input X, y to use for prediction/scoring\n",
    "    \n",
    "    model.fit(X_train, y_train)\n",
    "    predictions = model.predict(X)\n",
    "    \n",
    "    print(\"Accuracy:\", accuracy_score(y, predictions))    \n",
    "    print(\"Precision:\", precision_score(y, predictions))    \n",
    "    print(\"Recall:\", recall_score(y, predictions))\n",
    "    print(\"F1 score:\", f1_score(y, predictions))\n",
    "    \n",
    "    plot_confusion_matrix(y, predictions, model.classes_)"
   ]
  },
  {
   "cell_type": "code",
   "execution_count": 40,
   "metadata": {},
   "outputs": [],
   "source": [
    "class ModelResults():\n",
    "    \n",
    "    def __init__(self, model, model_name,\n",
    "                 X_train=X_train, X_test=X_test, y_train=y_train, y_test=y_test):\n",
    "        \n",
    "        self.model = model\n",
    "        self.name = model_name\n",
    "        \n",
    "        self.model.fit(X_train, y_train)\n",
    "        \n",
    "        train_pred = model.predict(X_train)\n",
    "        test_pred = model.predict(X_test)\n",
    "\n",
    "        train_scores, test_scores = {}, {}\n",
    "    \n",
    "        for score in ['accuracy_score', 'precision_score', 'recall_score', 'f1_score']:\n",
    "            train_scores[score] = eval(score)(y_train, train_pred)\n",
    "            test_scores[score] = eval(score)(y_test, test_pred)\n",
    "            \n",
    "        self.train_scores = train_scores\n",
    "        self.test_scores = test_scores\n",
    "        \n",
    "    def table(self):\n",
    "        df = pd.DataFrame({'model': self.name, 'train': self.train_scores, 'test': self.test_scores})\n",
    "        df = df.reset_index().rename(columns={'index': 'score'})\n",
    "        df.style.background_gradient(cmap ='Blues')\n",
    "        return df.sort_values(by=['score', 'test'], ascending=False)\n",
    "  \n",
    "    def get_model(self):\n",
    "        return self.model"
   ]
  },
  {
   "cell_type": "code",
   "execution_count": 41,
   "metadata": {},
   "outputs": [],
   "source": [
    "class ResultsTable():\n",
    "    \n",
    "    def __init__(self, results):\n",
    "        self.df = pd.concat(results, ignore_index=True)\n",
    "        \n",
    "    def append(self, results):\n",
    "        self.df = pd.concat([self.df, results.table()], ignore_index=True)\n",
    "\n",
    "    def show(self):\n",
    "        self.df['score'] = pd.Categorical(self.df['score'], \n",
    "                                     ['f1_score', 'recall_score', 'precision_score', 'accuracy_score'])\n",
    "\n",
    "        return self.df.sort_values(by=['score', 'test'],\n",
    "                                  ascending=[True, False]).style.background_gradient(cmap ='Blues')\n"
   ]
  },
  {
   "cell_type": "code",
   "execution_count": 42,
   "metadata": {},
   "outputs": [
    {
     "name": "stdout",
     "output_type": "stream",
     "text": [
      "Accuracy: 0.6804972194962381\n",
      "Precision: 0.6804972194962381\n",
      "Recall: 1.0\n",
      "F1 score: 0.8098760433536814\n"
     ]
    },
    {
     "data": {
      "image/png": "[encoded data removed]",
      "text/plain": [
       "<Figure size 432x288 with 2 Axes>"
      ]
     },
     "metadata": {
      "needs_background": "light"
     },
     "output_type": "display_data"
    }
   ],
   "source": [
    "# high baseline scores\n",
    "\n",
    "print(\"Accuracy:\", accuracy_score(y_test, np.ones(y_test.shape)))    \n",
    "print(\"Precision:\", precision_score(y_test, np.ones(y_test.shape)))    \n",
    "print(\"Recall:\", recall_score(y_test, np.ones(y_test.shape)))\n",
    "print(\"F1 score:\", f1_score(y_test, np.ones(y_test.shape)))\n",
    "    \n",
    "plot_confusion_matrix(y_test, np.ones(y_test.shape), [0,1])\n"
   ]
  },
  {
   "cell_type": "code",
   "execution_count": 44,
   "metadata": {},
   "outputs": [],
   "source": [
    "# getting results for initial models\n",
    "\n",
    "models = [(KNeighborsClassifier(n_jobs=-1), 'KNN'),\n",
    "          (DecisionTreeClassifier(class_weight='balanced'), \n",
    "                   'Decision Tree'),\n",
    "          (LogisticRegressionCV(class_weight='balanced', cv=5, max_iter=1000, scoring='f1'), \n",
    "                   'LogReg')]\n",
    "\n",
    "model_names = [\"knn\", \"dtree\", \"logreg\", \"logregs\"]\n",
    "\n",
    "results_list = []\n",
    "for i,m in enumerate(models):\n",
    "    results = ModelResults(*m)\n",
    "    results_list.append(results.table())\n",
    "    with open(f\"models/{model_names[i]}.pickle\", \"wb\") as pfile:\n",
    "        pickle.dump(results, pfile)                     "
   ]
  },
  {
   "cell_type": "code",
   "execution_count": 45,
   "metadata": {},
   "outputs": [],
   "source": [
    "# or load previous results\n",
    "\n",
    "model_names = [\"knn\", \"dtree\", \"logreg\", \"logregs\"]\n",
    "\n",
    "results_list = []\n",
    "for m in model_names:\n",
    "    with open(f\"models/{m}.pickle\", \"rb\") as pfile:\n",
    "        exec(f\"{m} = pickle.load(pfile)\")\n",
    "        exec(f\"results_list.append({m}.table())\")"
   ]
  },
  {
   "cell_type": "code",
   "execution_count": 46,
   "metadata": {},
   "outputs": [],
   "source": [
    "# getting results for ensemble models\n",
    "\n",
    "ensembles = [(RandomForestClassifier(class_weight='balanced'), 'Random Forest'),\n",
    "              (ExtraTreesClassifier(class_weight='balanced'), 'Extra Trees')]\n",
    "ensemble_names = [\"rf\", \"extra_trees\"]\n",
    "\n",
    "for m in ensembles:\n",
    "    results = ModelResults(*m)\n",
    "    results_list.append(results.table())\n",
    "    model_object = results.get_model()\n",
    "    with open(f\"models/{m[1]}.pickle\", \"wb\") as pfile:\n",
    "        pickle.dump(model_object, pfile) "
   ]
  },
  {
   "cell_type": "code",
   "execution_count": 46,
   "metadata": {},
   "outputs": [],
   "source": [
    "# or load previously trained ensemble models\n",
    "\n",
    "ensemble_names = [\"rf\", \"extra_trees\"]\n",
    "\n",
    "for e in ensemble_names:\n",
    "    with open(f\"models/{e}.pickle\", \"rb\") as pfile:\n",
    "        exec(f\"{e} = pickle.load(pfile)\")\n",
    "        \n",
    "results_list.append(ModelResults(rf, 'Random Forest').table())\n",
    "results_list.append(ModelResults(extra_trees, 'Extra Trees').table())"
   ]
  },
  {
   "cell_type": "code",
   "execution_count": 47,
   "metadata": {},
   "outputs": [
    {
     "data": {
      "text/html": [
       "<style type=\"text/css\">\n",
       "#T_e21fa_row0_col2, #T_e21fa_row1_col2, #T_e21fa_row3_col2, #T_e21fa_row6_col2, #T_e21fa_row6_col3, #T_e21fa_row7_col2, #T_e21fa_row9_col2, #T_e21fa_row14_col2, #T_e21fa_row15_col2, #T_e21fa_row16_col2, #T_e21fa_row18_col2, #T_e21fa_row19_col2, #T_e21fa_row22_col2 {\n",
       "  background-color: #08306b;\n",
       "  color: #f1f1f1;\n",
       "}\n",
       "#T_e21fa_row0_col3 {\n",
       "  background-color: #3484bf;\n",
       "  color: #f1f1f1;\n",
       "}\n",
       "#T_e21fa_row1_col3 {\n",
       "  background-color: #4997c9;\n",
       "  color: #f1f1f1;\n",
       "}\n",
       "#T_e21fa_row2_col2 {\n",
       "  background-color: #539ecd;\n",
       "  color: #f1f1f1;\n",
       "}\n",
       "#T_e21fa_row2_col3 {\n",
       "  background-color: #5da5d1;\n",
       "  color: #f1f1f1;\n",
       "}\n",
       "#T_e21fa_row3_col3, #T_e21fa_row9_col3, #T_e21fa_row16_col3 {\n",
       "  background-color: #99c7e0;\n",
       "  color: #000000;\n",
       "}\n",
       "#T_e21fa_row4_col2 {\n",
       "  background-color: #d0e1f2;\n",
       "  color: #000000;\n",
       "}\n",
       "#T_e21fa_row4_col3 {\n",
       "  background-color: #bfd8ed;\n",
       "  color: #000000;\n",
       "}\n",
       "#T_e21fa_row5_col2 {\n",
       "  background-color: #d3e4f3;\n",
       "  color: #000000;\n",
       "}\n",
       "#T_e21fa_row5_col3 {\n",
       "  background-color: #c2d9ee;\n",
       "  color: #000000;\n",
       "}\n",
       "#T_e21fa_row7_col3 {\n",
       "  background-color: #1561a9;\n",
       "  color: #f1f1f1;\n",
       "}\n",
       "#T_e21fa_row8_col2 {\n",
       "  background-color: #2070b4;\n",
       "  color: #f1f1f1;\n",
       "}\n",
       "#T_e21fa_row8_col3 {\n",
       "  background-color: #1967ad;\n",
       "  color: #f1f1f1;\n",
       "}\n",
       "#T_e21fa_row10_col2 {\n",
       "  background-color: #f2f7fd;\n",
       "  color: #000000;\n",
       "}\n",
       "#T_e21fa_row10_col3 {\n",
       "  background-color: #f2f8fd;\n",
       "  color: #000000;\n",
       "}\n",
       "#T_e21fa_row11_col2, #T_e21fa_row11_col3 {\n",
       "  background-color: #f5f9fe;\n",
       "  color: #000000;\n",
       "}\n",
       "#T_e21fa_row12_col2 {\n",
       "  background-color: #8fc2de;\n",
       "  color: #000000;\n",
       "}\n",
       "#T_e21fa_row12_col3 {\n",
       "  background-color: #4f9bcb;\n",
       "  color: #f1f1f1;\n",
       "}\n",
       "#T_e21fa_row13_col2 {\n",
       "  background-color: #95c5df;\n",
       "  color: #000000;\n",
       "}\n",
       "#T_e21fa_row13_col3 {\n",
       "  background-color: #519ccc;\n",
       "  color: #f1f1f1;\n",
       "}\n",
       "#T_e21fa_row14_col3 {\n",
       "  background-color: #8abfdd;\n",
       "  color: #000000;\n",
       "}\n",
       "#T_e21fa_row15_col3 {\n",
       "  background-color: #8dc1dd;\n",
       "  color: #000000;\n",
       "}\n",
       "#T_e21fa_row17_col2 {\n",
       "  background-color: #8cc0dd;\n",
       "  color: #000000;\n",
       "}\n",
       "#T_e21fa_row17_col3 {\n",
       "  background-color: #abd0e6;\n",
       "  color: #000000;\n",
       "}\n",
       "#T_e21fa_row18_col3 {\n",
       "  background-color: #bad6eb;\n",
       "  color: #000000;\n",
       "}\n",
       "#T_e21fa_row19_col3 {\n",
       "  background-color: #cddff1;\n",
       "  color: #000000;\n",
       "}\n",
       "#T_e21fa_row20_col2 {\n",
       "  background-color: #a0cbe2;\n",
       "  color: #000000;\n",
       "}\n",
       "#T_e21fa_row20_col3 {\n",
       "  background-color: #e2edf8;\n",
       "  color: #000000;\n",
       "}\n",
       "#T_e21fa_row21_col2 {\n",
       "  background-color: #f4f9fe;\n",
       "  color: #000000;\n",
       "}\n",
       "#T_e21fa_row21_col3 {\n",
       "  background-color: #f5fafe;\n",
       "  color: #000000;\n",
       "}\n",
       "#T_e21fa_row22_col3 {\n",
       "  background-color: #f6faff;\n",
       "  color: #000000;\n",
       "}\n",
       "#T_e21fa_row23_col2, #T_e21fa_row23_col3 {\n",
       "  background-color: #f7fbff;\n",
       "  color: #000000;\n",
       "}\n",
       "</style>\n",
       "<table id=\"T_e21fa_\">\n",
       "  <thead>\n",
       "    <tr>\n",
       "      <th class=\"col_heading level0 col0\" >score</th>\n",
       "      <th class=\"col_heading level0 col1\" >model</th>\n",
       "      <th class=\"col_heading level0 col2\" >train</th>\n",
       "      <th class=\"col_heading level0 col3\" >test</th>\n",
       "    </tr>\n",
       "  </thead>\n",
       "  <tbody>\n",
       "    <tr>\n",
       "      <td id=\"T_e21fa_row0_col0\" class=\"data row0 col0\" >f1_score</td>\n",
       "      <td id=\"T_e21fa_row0_col1\" class=\"data row0 col1\" >Random Forest</td>\n",
       "      <td id=\"T_e21fa_row0_col2\" class=\"data row0 col2\" >0.999946</td>\n",
       "      <td id=\"T_e21fa_row0_col3\" class=\"data row0 col3\" >0.791145</td>\n",
       "    </tr>\n",
       "    <tr>\n",
       "      <td id=\"T_e21fa_row1_col0\" class=\"data row1 col0\" >f1_score</td>\n",
       "      <td id=\"T_e21fa_row1_col1\" class=\"data row1 col1\" >Extra Trees</td>\n",
       "      <td id=\"T_e21fa_row1_col2\" class=\"data row1 col2\" >0.999951</td>\n",
       "      <td id=\"T_e21fa_row1_col3\" class=\"data row1 col3\" >0.770559</td>\n",
       "    </tr>\n",
       "    <tr>\n",
       "      <td id=\"T_e21fa_row2_col0\" class=\"data row2 col0\" >f1_score</td>\n",
       "      <td id=\"T_e21fa_row2_col1\" class=\"data row2 col1\" >KNN</td>\n",
       "      <td id=\"T_e21fa_row2_col2\" class=\"data row2 col2\" >0.831132</td>\n",
       "      <td id=\"T_e21fa_row2_col3\" class=\"data row2 col3\" >0.753561</td>\n",
       "    </tr>\n",
       "    <tr>\n",
       "      <td id=\"T_e21fa_row3_col0\" class=\"data row3 col0\" >f1_score</td>\n",
       "      <td id=\"T_e21fa_row3_col1\" class=\"data row3 col1\" >Decision Tree</td>\n",
       "      <td id=\"T_e21fa_row3_col2\" class=\"data row3 col2\" >0.999951</td>\n",
       "      <td id=\"T_e21fa_row3_col3\" class=\"data row3 col3\" >0.711835</td>\n",
       "    </tr>\n",
       "    <tr>\n",
       "      <td id=\"T_e21fa_row4_col0\" class=\"data row4 col0\" >f1_score</td>\n",
       "      <td id=\"T_e21fa_row4_col1\" class=\"data row4 col1\" >LogReg</td>\n",
       "      <td id=\"T_e21fa_row4_col2\" class=\"data row4 col2\" >0.682905</td>\n",
       "      <td id=\"T_e21fa_row4_col3\" class=\"data row4 col3\" >0.680345</td>\n",
       "    </tr>\n",
       "    <tr>\n",
       "      <td id=\"T_e21fa_row5_col0\" class=\"data row5 col0\" >f1_score</td>\n",
       "      <td id=\"T_e21fa_row5_col1\" class=\"data row5 col1\" >LogReg scaled</td>\n",
       "      <td id=\"T_e21fa_row5_col2\" class=\"data row5 col2\" >0.676190</td>\n",
       "      <td id=\"T_e21fa_row5_col3\" class=\"data row5 col3\" >0.677656</td>\n",
       "    </tr>\n",
       "    <tr>\n",
       "      <td id=\"T_e21fa_row6_col0\" class=\"data row6 col0\" >recall_score</td>\n",
       "      <td id=\"T_e21fa_row6_col1\" class=\"data row6 col1\" >Random Forest</td>\n",
       "      <td id=\"T_e21fa_row6_col2\" class=\"data row6 col2\" >0.999942</td>\n",
       "      <td id=\"T_e21fa_row6_col3\" class=\"data row6 col3\" >0.878920</td>\n",
       "    </tr>\n",
       "    <tr>\n",
       "      <td id=\"T_e21fa_row7_col0\" class=\"data row7 col0\" >recall_score</td>\n",
       "      <td id=\"T_e21fa_row7_col1\" class=\"data row7 col1\" >Extra Trees</td>\n",
       "      <td id=\"T_e21fa_row7_col2\" class=\"data row7 col2\" >0.999901</td>\n",
       "      <td id=\"T_e21fa_row7_col3\" class=\"data row7 col3\" >0.827062</td>\n",
       "    </tr>\n",
       "    <tr>\n",
       "      <td id=\"T_e21fa_row8_col0\" class=\"data row8 col0\" >recall_score</td>\n",
       "      <td id=\"T_e21fa_row8_col1\" class=\"data row8 col1\" >KNN</td>\n",
       "      <td id=\"T_e21fa_row8_col2\" class=\"data row8 col2\" >0.902010</td>\n",
       "      <td id=\"T_e21fa_row8_col3\" class=\"data row8 col3\" >0.820409</td>\n",
       "    </tr>\n",
       "    <tr>\n",
       "      <td id=\"T_e21fa_row9_col0\" class=\"data row9 col0\" >recall_score</td>\n",
       "      <td id=\"T_e21fa_row9_col1\" class=\"data row9 col1\" >Decision Tree</td>\n",
       "      <td id=\"T_e21fa_row9_col2\" class=\"data row9 col2\" >0.999901</td>\n",
       "      <td id=\"T_e21fa_row9_col3\" class=\"data row9 col3\" >0.712116</td>\n",
       "    </tr>\n",
       "    <tr>\n",
       "      <td id=\"T_e21fa_row10_col0\" class=\"data row10 col0\" >recall_score</td>\n",
       "      <td id=\"T_e21fa_row10_col1\" class=\"data row10 col1\" >LogReg</td>\n",
       "      <td id=\"T_e21fa_row10_col2\" class=\"data row10 col2\" >0.615736</td>\n",
       "      <td id=\"T_e21fa_row10_col3\" class=\"data row10 col3\" >0.612418</td>\n",
       "    </tr>\n",
       "    <tr>\n",
       "      <td id=\"T_e21fa_row11_col0\" class=\"data row11 col0\" >recall_score</td>\n",
       "      <td id=\"T_e21fa_row11_col1\" class=\"data row11 col1\" >LogReg scaled</td>\n",
       "      <td id=\"T_e21fa_row11_col2\" class=\"data row11 col2\" >0.608336</td>\n",
       "      <td id=\"T_e21fa_row11_col3\" class=\"data row11 col3\" >0.609033</td>\n",
       "    </tr>\n",
       "    <tr>\n",
       "      <td id=\"T_e21fa_row12_col0\" class=\"data row12 col0\" >precision_score</td>\n",
       "      <td id=\"T_e21fa_row12_col1\" class=\"data row12 col1\" >LogReg</td>\n",
       "      <td id=\"T_e21fa_row12_col2\" class=\"data row12 col2\" >0.766522</td>\n",
       "      <td id=\"T_e21fa_row12_col3\" class=\"data row12 col3\" >0.765220</td>\n",
       "    </tr>\n",
       "    <tr>\n",
       "      <td id=\"T_e21fa_row13_col0\" class=\"data row13 col0\" >precision_score</td>\n",
       "      <td id=\"T_e21fa_row13_col1\" class=\"data row13 col1\" >LogReg scaled</td>\n",
       "      <td id=\"T_e21fa_row13_col2\" class=\"data row13 col2\" >0.761080</td>\n",
       "      <td id=\"T_e21fa_row13_col3\" class=\"data row13 col3\" >0.763707</td>\n",
       "    </tr>\n",
       "    <tr>\n",
       "      <td id=\"T_e21fa_row14_col0\" class=\"data row14 col0\" >precision_score</td>\n",
       "      <td id=\"T_e21fa_row14_col1\" class=\"data row14 col1\" >Extra Trees</td>\n",
       "      <td id=\"T_e21fa_row14_col2\" class=\"data row14 col2\" >1.000000</td>\n",
       "      <td id=\"T_e21fa_row14_col3\" class=\"data row14 col3\" >0.721283</td>\n",
       "    </tr>\n",
       "    <tr>\n",
       "      <td id=\"T_e21fa_row15_col0\" class=\"data row15 col0\" >precision_score</td>\n",
       "      <td id=\"T_e21fa_row15_col1\" class=\"data row15 col1\" >Random Forest</td>\n",
       "      <td id=\"T_e21fa_row15_col2\" class=\"data row15 col2\" >0.999951</td>\n",
       "      <td id=\"T_e21fa_row15_col3\" class=\"data row15 col3\" >0.719310</td>\n",
       "    </tr>\n",
       "    <tr>\n",
       "      <td id=\"T_e21fa_row16_col0\" class=\"data row16 col0\" >precision_score</td>\n",
       "      <td id=\"T_e21fa_row16_col1\" class=\"data row16 col1\" >Decision Tree</td>\n",
       "      <td id=\"T_e21fa_row16_col2\" class=\"data row16 col2\" >1.000000</td>\n",
       "      <td id=\"T_e21fa_row16_col3\" class=\"data row16 col3\" >0.711555</td>\n",
       "    </tr>\n",
       "    <tr>\n",
       "      <td id=\"T_e21fa_row17_col0\" class=\"data row17 col0\" >precision_score</td>\n",
       "      <td id=\"T_e21fa_row17_col1\" class=\"data row17 col1\" >KNN</td>\n",
       "      <td id=\"T_e21fa_row17_col2\" class=\"data row17 col2\" >0.770581</td>\n",
       "      <td id=\"T_e21fa_row17_col3\" class=\"data row17 col3\" >0.696786</td>\n",
       "    </tr>\n",
       "    <tr>\n",
       "      <td id=\"T_e21fa_row18_col0\" class=\"data row18 col0\" >accuracy_score</td>\n",
       "      <td id=\"T_e21fa_row18_col1\" class=\"data row18 col1\" >Random Forest</td>\n",
       "      <td id=\"T_e21fa_row18_col2\" class=\"data row18 col2\" >0.999927</td>\n",
       "      <td id=\"T_e21fa_row18_col3\" class=\"data row18 col3\" >0.684213</td>\n",
       "    </tr>\n",
       "    <tr>\n",
       "      <td id=\"T_e21fa_row19_col0\" class=\"data row19 col0\" >accuracy_score</td>\n",
       "      <td id=\"T_e21fa_row19_col1\" class=\"data row19 col1\" >Extra Trees</td>\n",
       "      <td id=\"T_e21fa_row19_col2\" class=\"data row19 col2\" >0.999933</td>\n",
       "      <td id=\"T_e21fa_row19_col3\" class=\"data row19 col3\" >0.664835</td>\n",
       "    </tr>\n",
       "    <tr>\n",
       "      <td id=\"T_e21fa_row20_col0\" class=\"data row20 col0\" >accuracy_score</td>\n",
       "      <td id=\"T_e21fa_row20_col1\" class=\"data row20 col1\" >KNN</td>\n",
       "      <td id=\"T_e21fa_row20_col2\" class=\"data row20 col2\" >0.750573</td>\n",
       "      <td id=\"T_e21fa_row20_col3\" class=\"data row20 col3\" >0.634845</td>\n",
       "    </tr>\n",
       "    <tr>\n",
       "      <td id=\"T_e21fa_row21_col0\" class=\"data row21 col0\" >accuracy_score</td>\n",
       "      <td id=\"T_e21fa_row21_col1\" class=\"data row21 col1\" >LogReg</td>\n",
       "      <td id=\"T_e21fa_row21_col2\" class=\"data row21 col2\" >0.610885</td>\n",
       "      <td id=\"T_e21fa_row21_col3\" class=\"data row21 col3\" >0.608387</td>\n",
       "    </tr>\n",
       "    <tr>\n",
       "      <td id=\"T_e21fa_row22_col0\" class=\"data row22 col0\" >accuracy_score</td>\n",
       "      <td id=\"T_e21fa_row22_col1\" class=\"data row22 col1\" >Decision Tree</td>\n",
       "      <td id=\"T_e21fa_row22_col2\" class=\"data row22 col2\" >0.999933</td>\n",
       "      <td id=\"T_e21fa_row22_col3\" class=\"data row22 col3\" >0.607655</td>\n",
       "    </tr>\n",
       "    <tr>\n",
       "      <td id=\"T_e21fa_row23_col0\" class=\"data row23 col0\" >accuracy_score</td>\n",
       "      <td id=\"T_e21fa_row23_col1\" class=\"data row23 col1\" >LogReg scaled</td>\n",
       "      <td id=\"T_e21fa_row23_col2\" class=\"data row23 col2\" >0.603522</td>\n",
       "      <td id=\"T_e21fa_row23_col3\" class=\"data row23 col3\" >0.605718</td>\n",
       "    </tr>\n",
       "  </tbody>\n",
       "</table>\n"
      ],
      "text/plain": [
       "<pandas.io.formats.style.Styler at 0x7fb61c98bd00>"
      ]
     },
     "execution_count": 47,
     "metadata": {},
     "output_type": "execute_result"
    }
   ],
   "source": [
    "df = ResultsTable(results_list)\n",
    "df.show().hide_index()\n",
    "\n",
    "# save df image\n",
    "# dfi.export(df.show().hide_index(), 'df_styled.png')"
   ]
  },
  {
   "cell_type": "markdown",
   "metadata": {},
   "source": [
    "So far a classifier based on decision trees seems much more promising than logistic regression."
   ]
  },
  {
   "cell_type": "markdown",
   "metadata": {},
   "source": [
    "The baseline f1 score is still higher than any of the models, and the best-performing model, the Random Forest classifier, is strongly overfitting training data.\n",
    "\n",
    "Next steps:\n",
    "- tuning random forest hyperparameters\n",
    "- accounting for imbalanced classes\n",
    "- gradient boosting\n",
    "- validating added feature and oversampling"
   ]
  },
  {
   "cell_type": "markdown",
   "metadata": {},
   "source": [
    "## 3. Random Forest hyperparameter tuning"
   ]
  },
  {
   "cell_type": "code",
   "execution_count": 52,
   "metadata": {},
   "outputs": [],
   "source": [
    "f1_scores = []\n",
    "\n",
    "for i in range(1, 50):\n",
    "    rf = RandomForestClassifier(max_depth=i)\n",
    "    rf.fit(X_train, y_train)\n",
    "    f1_scores.append(f1_score(y_test, rf.predict(X_test)))\n",
    "    "
   ]
  },
  {
   "cell_type": "code",
   "execution_count": 53,
   "metadata": {},
   "outputs": [
    {
     "data": {
      "text/plain": [
       "[<matplotlib.lines.Line2D at 0x7f5502df7be0>]"
      ]
     },
     "execution_count": 53,
     "metadata": {},
     "output_type": "execute_result"
    },
    {
     "data": {
      "image/png": "[encoded data removed]",
      "text/plain": [
       "<Figure size 432x288 with 1 Axes>"
      ]
     },
     "metadata": {
      "needs_background": "light"
     },
     "output_type": "display_data"
    }
   ],
   "source": [
    "plt.plot(range(1,50), f1_scores)"
   ]
  },
  {
   "cell_type": "code",
   "execution_count": 55,
   "metadata": {},
   "outputs": [],
   "source": [
    "# random search across hyperparameter grid\n",
    "\n",
    "n_estimators = [int(x) for x in np.linspace(start = 50, stop = 1000, num = 5)]\n",
    "max_features = ['auto', 'sqrt']\n",
    "max_depth = [4, 8, 10, 12, 14, 16]\n",
    "min_samples_split = [2, 5, 10]\n",
    "min_samples_leaf = [2, 4, 6, 10]\n",
    "bootstrap = [True, False]\n",
    "\n",
    "random_grid = {'n_estimators': n_estimators,\n",
    "               'max_features': max_features,\n",
    "               'max_depth': max_depth,\n",
    "               'min_samples_split': min_samples_split,\n",
    "               'min_samples_leaf': min_samples_leaf,\n",
    "               'bootstrap': bootstrap}\n"
   ]
  },
  {
   "cell_type": "code",
   "execution_count": 56,
   "metadata": {
    "scrolled": false
   },
   "outputs": [
    {
     "name": "stdout",
     "output_type": "stream",
     "text": [
      "Fitting 3 folds for each of 50 candidates, totalling 150 fits\n"
     ]
    },
    {
     "data": {
      "text/plain": [
       "RandomizedSearchCV(cv=3, estimator=RandomForestClassifier(), n_iter=50,\n",
       "                   n_jobs=4,\n",
       "                   param_distributions={'bootstrap': [True, False],\n",
       "                                        'max_depth': [4, 8, 10, 12, 14, 16],\n",
       "                                        'max_features': ['auto', 'sqrt'],\n",
       "                                        'min_samples_leaf': [2, 4, 6, 10],\n",
       "                                        'min_samples_split': [2, 5, 10],\n",
       "                                        'n_estimators': [50, 287, 525, 762,\n",
       "                                                         1000]},\n",
       "                   random_state=42, verbose=2)"
      ]
     },
     "execution_count": 56,
     "metadata": {},
     "output_type": "execute_result"
    }
   ],
   "source": [
    "rf = RandomForestClassifier()\n",
    "rf_random = RandomizedSearchCV(estimator = rf, param_distributions = random_grid, n_iter = 50, cv=3, \n",
    "                               random_state=42, n_jobs = 4, verbose=2)\n",
    "\n",
    "rf_random.fit(X_train, y_train)"
   ]
  },
  {
   "cell_type": "code",
   "execution_count": null,
   "metadata": {},
   "outputs": [],
   "source": [
    "# or load previously trained model\n",
    "\n",
    "with open(f\"models/rf_random.pickle\", \"rb\") as pfile:\n",
    "    exec(f\"rf_random = pickle.load(pfile)\")"
   ]
  },
  {
   "cell_type": "code",
   "execution_count": 58,
   "metadata": {},
   "outputs": [],
   "source": [
    "with open(f\"models/rf_random.pickle\", \"wb\") as pfile:\n",
    "        pickle.dump(rf_random, pfile)"
   ]
  },
  {
   "cell_type": "code",
   "execution_count": 57,
   "metadata": {},
   "outputs": [
    {
     "data": {
      "text/plain": [
       "{'n_estimators': 1000,\n",
       " 'min_samples_split': 5,\n",
       " 'min_samples_leaf': 2,\n",
       " 'max_features': 'auto',\n",
       " 'max_depth': 16,\n",
       " 'bootstrap': False}"
      ]
     },
     "execution_count": 57,
     "metadata": {},
     "output_type": "execute_result"
    }
   ],
   "source": [
    "rf_random.best_params_"
   ]
  },
  {
   "cell_type": "code",
   "execution_count": 59,
   "metadata": {},
   "outputs": [
    {
     "name": "stdout",
     "output_type": "stream",
     "text": [
      "Accuracy: 0.6999280340202814\n",
      "Precision: 0.7062688007264885\n",
      "Recall: 0.9570827004057146\n",
      "F1 score: 0.8127658532204469\n"
     ]
    },
    {
     "data": {
      "image/png": "[encoded data removed]",
      "text/plain": [
       "<Figure size 432x288 with 2 Axes>"
      ]
     },
     "metadata": {
      "needs_background": "light"
     },
     "output_type": "display_data"
    }
   ],
   "source": [
    "train_test_score(rf_random.best_estimator_, X_test, y_test)"
   ]
  },
  {
   "cell_type": "code",
   "execution_count": 60,
   "metadata": {},
   "outputs": [
    {
     "name": "stdout",
     "output_type": "stream",
     "text": [
      "Accuracy: 0.6838992476283938\n",
      "Precision: 0.7205232567347133\n",
      "Recall: 0.8748053146691791\n",
      "F1 score: 0.790204081632653\n"
     ]
    },
    {
     "data": {
      "image/png": "[encoded data removed]",
      "text/plain": [
       "<Figure size 432x288 with 2 Axes>"
      ]
     },
     "metadata": {
      "needs_background": "light"
     },
     "output_type": "display_data"
    }
   ],
   "source": [
    "train_test_score(RandomForestClassifier(), X_test, y_test)"
   ]
  },
  {
   "cell_type": "code",
   "execution_count": 61,
   "metadata": {},
   "outputs": [
    {
     "name": "stdout",
     "output_type": "stream",
     "text": [
      "Accuracy: 0.6829178933595028\n",
      "Precision: 0.7178763061282124\n",
      "Recall: 0.8798046416828503\n",
      "F1 score: 0.790634584647285\n"
     ]
    },
    {
     "data": {
      "image/png": "[encoded data removed]",
      "text/plain": [
       "<Figure size 432x288 with 2 Axes>"
      ]
     },
     "metadata": {
      "needs_background": "light"
     },
     "output_type": "display_data"
    }
   ],
   "source": [
    "train_test_score(RandomForestClassifier(class_weight='balanced'), X_test, y_test)"
   ]
  },
  {
   "cell_type": "markdown",
   "metadata": {},
   "source": [
    "The best result from the randomized grid search works better than the baseline Random Forest, and only a little better than the overall baseline (guessing only majority class). "
   ]
  },
  {
   "cell_type": "code",
   "execution_count": 64,
   "metadata": {},
   "outputs": [],
   "source": [
    "res= ModelResults(rf_random.best_estimator_, 'RF random search')"
   ]
  },
  {
   "cell_type": "code",
   "execution_count": 65,
   "metadata": {},
   "outputs": [
    {
     "data": {
      "text/html": [
       "<style  type=\"text/css\" >\n",
       "#T_177490e6_5d52_11ec_8fb7_d51dd1dd9a58row0_col2{\n",
       "            background-color:  #4896c8;\n",
       "            color:  #000000;\n",
       "        }#T_177490e6_5d52_11ec_8fb7_d51dd1dd9a58row0_col3{\n",
       "            background-color:  #4a98c9;\n",
       "            color:  #000000;\n",
       "        }#T_177490e6_5d52_11ec_8fb7_d51dd1dd9a58row1_col2,#T_177490e6_5d52_11ec_8fb7_d51dd1dd9a58row2_col2,#T_177490e6_5d52_11ec_8fb7_d51dd1dd9a58row3_col2,#T_177490e6_5d52_11ec_8fb7_d51dd1dd9a58row6_col3,#T_177490e6_5d52_11ec_8fb7_d51dd1dd9a58row7_col2,#T_177490e6_5d52_11ec_8fb7_d51dd1dd9a58row8_col2,#T_177490e6_5d52_11ec_8fb7_d51dd1dd9a58row9_col2,#T_177490e6_5d52_11ec_8fb7_d51dd1dd9a58row14_col2,#T_177490e6_5d52_11ec_8fb7_d51dd1dd9a58row15_col2,#T_177490e6_5d52_11ec_8fb7_d51dd1dd9a58row16_col2,#T_177490e6_5d52_11ec_8fb7_d51dd1dd9a58row19_col2,#T_177490e6_5d52_11ec_8fb7_d51dd1dd9a58row20_col2,#T_177490e6_5d52_11ec_8fb7_d51dd1dd9a58row21_col2{\n",
       "            background-color:  #08306b;\n",
       "            color:  #f1f1f1;\n",
       "        }#T_177490e6_5d52_11ec_8fb7_d51dd1dd9a58row1_col3{\n",
       "            background-color:  #5ca4d0;\n",
       "            color:  #000000;\n",
       "        }#T_177490e6_5d52_11ec_8fb7_d51dd1dd9a58row2_col3{\n",
       "            background-color:  #71b1d7;\n",
       "            color:  #000000;\n",
       "        }#T_177490e6_5d52_11ec_8fb7_d51dd1dd9a58row3_col3,#T_177490e6_5d52_11ec_8fb7_d51dd1dd9a58row9_col3{\n",
       "            background-color:  #b0d2e7;\n",
       "            color:  #000000;\n",
       "        }#T_177490e6_5d52_11ec_8fb7_d51dd1dd9a58row4_col2,#T_177490e6_5d52_11ec_8fb7_d51dd1dd9a58row5_col2{\n",
       "            background-color:  #d3e4f3;\n",
       "            color:  #000000;\n",
       "        }#T_177490e6_5d52_11ec_8fb7_d51dd1dd9a58row4_col3,#T_177490e6_5d52_11ec_8fb7_d51dd1dd9a58row5_col3{\n",
       "            background-color:  #cfe1f2;\n",
       "            color:  #000000;\n",
       "        }#T_177490e6_5d52_11ec_8fb7_d51dd1dd9a58row6_col2{\n",
       "            background-color:  #083e81;\n",
       "            color:  #f1f1f1;\n",
       "        }#T_177490e6_5d52_11ec_8fb7_d51dd1dd9a58row7_col3{\n",
       "            background-color:  #1966ad;\n",
       "            color:  #f1f1f1;\n",
       "        }#T_177490e6_5d52_11ec_8fb7_d51dd1dd9a58row8_col3{\n",
       "            background-color:  #3c8cc3;\n",
       "            color:  #000000;\n",
       "        }#T_177490e6_5d52_11ec_8fb7_d51dd1dd9a58row10_col2,#T_177490e6_5d52_11ec_8fb7_d51dd1dd9a58row11_col2{\n",
       "            background-color:  #f5f9fe;\n",
       "            color:  #000000;\n",
       "        }#T_177490e6_5d52_11ec_8fb7_d51dd1dd9a58row10_col3,#T_177490e6_5d52_11ec_8fb7_d51dd1dd9a58row11_col3{\n",
       "            background-color:  #f4f9fe;\n",
       "            color:  #000000;\n",
       "        }#T_177490e6_5d52_11ec_8fb7_d51dd1dd9a58row12_col2,#T_177490e6_5d52_11ec_8fb7_d51dd1dd9a58row13_col2{\n",
       "            background-color:  #97c6df;\n",
       "            color:  #000000;\n",
       "        }#T_177490e6_5d52_11ec_8fb7_d51dd1dd9a58row12_col3,#T_177490e6_5d52_11ec_8fb7_d51dd1dd9a58row13_col3{\n",
       "            background-color:  #84bcdb;\n",
       "            color:  #000000;\n",
       "        }#T_177490e6_5d52_11ec_8fb7_d51dd1dd9a58row14_col3{\n",
       "            background-color:  #a8cee4;\n",
       "            color:  #000000;\n",
       "        }#T_177490e6_5d52_11ec_8fb7_d51dd1dd9a58row15_col3{\n",
       "            background-color:  #a9cfe5;\n",
       "            color:  #000000;\n",
       "        }#T_177490e6_5d52_11ec_8fb7_d51dd1dd9a58row16_col3{\n",
       "            background-color:  #afd1e7;\n",
       "            color:  #000000;\n",
       "        }#T_177490e6_5d52_11ec_8fb7_d51dd1dd9a58row17_col2{\n",
       "            background-color:  #a5cde3;\n",
       "            color:  #000000;\n",
       "        }#T_177490e6_5d52_11ec_8fb7_d51dd1dd9a58row17_col3{\n",
       "            background-color:  #b4d3e9;\n",
       "            color:  #000000;\n",
       "        }#T_177490e6_5d52_11ec_8fb7_d51dd1dd9a58row18_col2{\n",
       "            background-color:  #9cc9e1;\n",
       "            color:  #000000;\n",
       "        }#T_177490e6_5d52_11ec_8fb7_d51dd1dd9a58row18_col3{\n",
       "            background-color:  #b9d6ea;\n",
       "            color:  #000000;\n",
       "        }#T_177490e6_5d52_11ec_8fb7_d51dd1dd9a58row19_col3{\n",
       "            background-color:  #c7dbef;\n",
       "            color:  #000000;\n",
       "        }#T_177490e6_5d52_11ec_8fb7_d51dd1dd9a58row20_col3{\n",
       "            background-color:  #d1e2f3;\n",
       "            color:  #000000;\n",
       "        }#T_177490e6_5d52_11ec_8fb7_d51dd1dd9a58row21_col3{\n",
       "            background-color:  #f1f7fd;\n",
       "            color:  #000000;\n",
       "        }#T_177490e6_5d52_11ec_8fb7_d51dd1dd9a58row22_col2,#T_177490e6_5d52_11ec_8fb7_d51dd1dd9a58row22_col3,#T_177490e6_5d52_11ec_8fb7_d51dd1dd9a58row23_col2,#T_177490e6_5d52_11ec_8fb7_d51dd1dd9a58row23_col3{\n",
       "            background-color:  #f7fbff;\n",
       "            color:  #000000;\n",
       "        }</style><table id=\"T_177490e6_5d52_11ec_8fb7_d51dd1dd9a58\" ><thead>    <tr>        <th class=\"blank level0\" ></th>        <th class=\"col_heading level0 col0\" >score</th>        <th class=\"col_heading level0 col1\" >model</th>        <th class=\"col_heading level0 col2\" >train</th>        <th class=\"col_heading level0 col3\" >test</th>    </tr></thead><tbody>\n",
       "                <tr>\n",
       "                        <th id=\"T_177490e6_5d52_11ec_8fb7_d51dd1dd9a58level0_row0\" class=\"row_heading level0 row0\" >22</th>\n",
       "                        <td id=\"T_177490e6_5d52_11ec_8fb7_d51dd1dd9a58row0_col0\" class=\"data row0 col0\" >f1_score</td>\n",
       "                        <td id=\"T_177490e6_5d52_11ec_8fb7_d51dd1dd9a58row0_col1\" class=\"data row0 col1\" >RF random search</td>\n",
       "                        <td id=\"T_177490e6_5d52_11ec_8fb7_d51dd1dd9a58row0_col2\" class=\"data row0 col2\" >0.841375</td>\n",
       "                        <td id=\"T_177490e6_5d52_11ec_8fb7_d51dd1dd9a58row0_col3\" class=\"data row0 col3\" >0.812831</td>\n",
       "            </tr>\n",
       "            <tr>\n",
       "                        <th id=\"T_177490e6_5d52_11ec_8fb7_d51dd1dd9a58level0_row1\" class=\"row_heading level0 row1\" >14</th>\n",
       "                        <td id=\"T_177490e6_5d52_11ec_8fb7_d51dd1dd9a58row1_col0\" class=\"data row1 col0\" >f1_score</td>\n",
       "                        <td id=\"T_177490e6_5d52_11ec_8fb7_d51dd1dd9a58row1_col1\" class=\"data row1 col1\" >Random Forest</td>\n",
       "                        <td id=\"T_177490e6_5d52_11ec_8fb7_d51dd1dd9a58row1_col2\" class=\"data row1 col2\" >0.999922</td>\n",
       "                        <td id=\"T_177490e6_5d52_11ec_8fb7_d51dd1dd9a58row1_col3\" class=\"data row1 col3\" >0.792267</td>\n",
       "            </tr>\n",
       "            <tr>\n",
       "                        <th id=\"T_177490e6_5d52_11ec_8fb7_d51dd1dd9a58level0_row2\" class=\"row_heading level0 row2\" >18</th>\n",
       "                        <td id=\"T_177490e6_5d52_11ec_8fb7_d51dd1dd9a58row2_col0\" class=\"data row2 col0\" >f1_score</td>\n",
       "                        <td id=\"T_177490e6_5d52_11ec_8fb7_d51dd1dd9a58row2_col1\" class=\"data row2 col1\" >Extra Trees</td>\n",
       "                        <td id=\"T_177490e6_5d52_11ec_8fb7_d51dd1dd9a58row2_col2\" class=\"data row2 col2\" >0.999930</td>\n",
       "                        <td id=\"T_177490e6_5d52_11ec_8fb7_d51dd1dd9a58row2_col3\" class=\"data row2 col3\" >0.770902</td>\n",
       "            </tr>\n",
       "            <tr>\n",
       "                        <th id=\"T_177490e6_5d52_11ec_8fb7_d51dd1dd9a58level0_row3\" class=\"row_heading level0 row3\" >2</th>\n",
       "                        <td id=\"T_177490e6_5d52_11ec_8fb7_d51dd1dd9a58row3_col0\" class=\"data row3 col0\" >f1_score</td>\n",
       "                        <td id=\"T_177490e6_5d52_11ec_8fb7_d51dd1dd9a58row3_col1\" class=\"data row3 col1\" >Decision Tree</td>\n",
       "                        <td id=\"T_177490e6_5d52_11ec_8fb7_d51dd1dd9a58row3_col2\" class=\"data row3 col2\" >0.999930</td>\n",
       "                        <td id=\"T_177490e6_5d52_11ec_8fb7_d51dd1dd9a58row3_col3\" class=\"data row3 col3\" >0.711082</td>\n",
       "            </tr>\n",
       "            <tr>\n",
       "                        <th id=\"T_177490e6_5d52_11ec_8fb7_d51dd1dd9a58level0_row4\" class=\"row_heading level0 row4\" >6</th>\n",
       "                        <td id=\"T_177490e6_5d52_11ec_8fb7_d51dd1dd9a58row4_col0\" class=\"data row4 col0\" >f1_score</td>\n",
       "                        <td id=\"T_177490e6_5d52_11ec_8fb7_d51dd1dd9a58row4_col1\" class=\"data row4 col1\" >LogReg</td>\n",
       "                        <td id=\"T_177490e6_5d52_11ec_8fb7_d51dd1dd9a58row4_col2\" class=\"data row4 col2\" >0.668071</td>\n",
       "                        <td id=\"T_177490e6_5d52_11ec_8fb7_d51dd1dd9a58row4_col3\" class=\"data row4 col3\" >0.669198</td>\n",
       "            </tr>\n",
       "            <tr>\n",
       "                        <th id=\"T_177490e6_5d52_11ec_8fb7_d51dd1dd9a58level0_row5\" class=\"row_heading level0 row5\" >10</th>\n",
       "                        <td id=\"T_177490e6_5d52_11ec_8fb7_d51dd1dd9a58row5_col0\" class=\"data row5 col0\" >f1_score</td>\n",
       "                        <td id=\"T_177490e6_5d52_11ec_8fb7_d51dd1dd9a58row5_col1\" class=\"data row5 col1\" >LogReg scaled</td>\n",
       "                        <td id=\"T_177490e6_5d52_11ec_8fb7_d51dd1dd9a58row5_col2\" class=\"data row5 col2\" >0.668071</td>\n",
       "                        <td id=\"T_177490e6_5d52_11ec_8fb7_d51dd1dd9a58row5_col3\" class=\"data row5 col3\" >0.669198</td>\n",
       "            </tr>\n",
       "            <tr>\n",
       "                        <th id=\"T_177490e6_5d52_11ec_8fb7_d51dd1dd9a58level0_row6\" class=\"row_heading level0 row6\" >20</th>\n",
       "                        <td id=\"T_177490e6_5d52_11ec_8fb7_d51dd1dd9a58row6_col0\" class=\"data row6 col0\" >recall_score</td>\n",
       "                        <td id=\"T_177490e6_5d52_11ec_8fb7_d51dd1dd9a58row6_col1\" class=\"data row6 col1\" >RF random search</td>\n",
       "                        <td id=\"T_177490e6_5d52_11ec_8fb7_d51dd1dd9a58row6_col2\" class=\"data row6 col2\" >0.977602</td>\n",
       "                        <td id=\"T_177490e6_5d52_11ec_8fb7_d51dd1dd9a58row6_col3\" class=\"data row6 col3\" >0.956910</td>\n",
       "            </tr>\n",
       "            <tr>\n",
       "                        <th id=\"T_177490e6_5d52_11ec_8fb7_d51dd1dd9a58level0_row7\" class=\"row_heading level0 row7\" >12</th>\n",
       "                        <td id=\"T_177490e6_5d52_11ec_8fb7_d51dd1dd9a58row7_col0\" class=\"data row7 col0\" >recall_score</td>\n",
       "                        <td id=\"T_177490e6_5d52_11ec_8fb7_d51dd1dd9a58row7_col1\" class=\"data row7 col1\" >Random Forest</td>\n",
       "                        <td id=\"T_177490e6_5d52_11ec_8fb7_d51dd1dd9a58row7_col2\" class=\"data row7 col2\" >0.999876</td>\n",
       "                        <td id=\"T_177490e6_5d52_11ec_8fb7_d51dd1dd9a58row7_col3\" class=\"data row7 col3\" >0.881766</td>\n",
       "            </tr>\n",
       "            <tr>\n",
       "                        <th id=\"T_177490e6_5d52_11ec_8fb7_d51dd1dd9a58level0_row8\" class=\"row_heading level0 row8\" >16</th>\n",
       "                        <td id=\"T_177490e6_5d52_11ec_8fb7_d51dd1dd9a58row8_col0\" class=\"data row8 col0\" >recall_score</td>\n",
       "                        <td id=\"T_177490e6_5d52_11ec_8fb7_d51dd1dd9a58row8_col1\" class=\"data row8 col1\" >Extra Trees</td>\n",
       "                        <td id=\"T_177490e6_5d52_11ec_8fb7_d51dd1dd9a58row8_col2\" class=\"data row8 col2\" >0.999860</td>\n",
       "                        <td id=\"T_177490e6_5d52_11ec_8fb7_d51dd1dd9a58row8_col3\" class=\"data row8 col3\" >0.829023</td>\n",
       "            </tr>\n",
       "            <tr>\n",
       "                        <th id=\"T_177490e6_5d52_11ec_8fb7_d51dd1dd9a58level0_row9\" class=\"row_heading level0 row9\" >0</th>\n",
       "                        <td id=\"T_177490e6_5d52_11ec_8fb7_d51dd1dd9a58row9_col0\" class=\"data row9 col0\" >recall_score</td>\n",
       "                        <td id=\"T_177490e6_5d52_11ec_8fb7_d51dd1dd9a58row9_col1\" class=\"data row9 col1\" >Decision Tree</td>\n",
       "                        <td id=\"T_177490e6_5d52_11ec_8fb7_d51dd1dd9a58row9_col2\" class=\"data row9 col2\" >0.999860</td>\n",
       "                        <td id=\"T_177490e6_5d52_11ec_8fb7_d51dd1dd9a58row9_col3\" class=\"data row9 col3\" >0.709885</td>\n",
       "            </tr>\n",
       "            <tr>\n",
       "                        <th id=\"T_177490e6_5d52_11ec_8fb7_d51dd1dd9a58level0_row10\" class=\"row_heading level0 row10\" >4</th>\n",
       "                        <td id=\"T_177490e6_5d52_11ec_8fb7_d51dd1dd9a58row10_col0\" class=\"data row10 col0\" >recall_score</td>\n",
       "                        <td id=\"T_177490e6_5d52_11ec_8fb7_d51dd1dd9a58row10_col1\" class=\"data row10 col1\" >LogReg</td>\n",
       "                        <td id=\"T_177490e6_5d52_11ec_8fb7_d51dd1dd9a58row10_col2\" class=\"data row10 col2\" >0.599749</td>\n",
       "                        <td id=\"T_177490e6_5d52_11ec_8fb7_d51dd1dd9a58row10_col3\" class=\"data row10 col3\" >0.601477</td>\n",
       "            </tr>\n",
       "            <tr>\n",
       "                        <th id=\"T_177490e6_5d52_11ec_8fb7_d51dd1dd9a58level0_row11\" class=\"row_heading level0 row11\" >8</th>\n",
       "                        <td id=\"T_177490e6_5d52_11ec_8fb7_d51dd1dd9a58row11_col0\" class=\"data row11 col0\" >recall_score</td>\n",
       "                        <td id=\"T_177490e6_5d52_11ec_8fb7_d51dd1dd9a58row11_col1\" class=\"data row11 col1\" >LogReg scaled</td>\n",
       "                        <td id=\"T_177490e6_5d52_11ec_8fb7_d51dd1dd9a58row11_col2\" class=\"data row11 col2\" >0.599749</td>\n",
       "                        <td id=\"T_177490e6_5d52_11ec_8fb7_d51dd1dd9a58row11_col3\" class=\"data row11 col3\" >0.601477</td>\n",
       "            </tr>\n",
       "            <tr>\n",
       "                        <th id=\"T_177490e6_5d52_11ec_8fb7_d51dd1dd9a58level0_row12\" class=\"row_heading level0 row12\" >5</th>\n",
       "                        <td id=\"T_177490e6_5d52_11ec_8fb7_d51dd1dd9a58row12_col0\" class=\"data row12 col0\" >precision_score</td>\n",
       "                        <td id=\"T_177490e6_5d52_11ec_8fb7_d51dd1dd9a58row12_col1\" class=\"data row12 col1\" >LogReg</td>\n",
       "                        <td id=\"T_177490e6_5d52_11ec_8fb7_d51dd1dd9a58row12_col2\" class=\"data row12 col2\" >0.753960</td>\n",
       "                        <td id=\"T_177490e6_5d52_11ec_8fb7_d51dd1dd9a58row12_col3\" class=\"data row12 col3\" >0.754104</td>\n",
       "            </tr>\n",
       "            <tr>\n",
       "                        <th id=\"T_177490e6_5d52_11ec_8fb7_d51dd1dd9a58level0_row13\" class=\"row_heading level0 row13\" >9</th>\n",
       "                        <td id=\"T_177490e6_5d52_11ec_8fb7_d51dd1dd9a58row13_col0\" class=\"data row13 col0\" >precision_score</td>\n",
       "                        <td id=\"T_177490e6_5d52_11ec_8fb7_d51dd1dd9a58row13_col1\" class=\"data row13 col1\" >LogReg scaled</td>\n",
       "                        <td id=\"T_177490e6_5d52_11ec_8fb7_d51dd1dd9a58row13_col2\" class=\"data row13 col2\" >0.753960</td>\n",
       "                        <td id=\"T_177490e6_5d52_11ec_8fb7_d51dd1dd9a58row13_col3\" class=\"data row13 col3\" >0.754104</td>\n",
       "            </tr>\n",
       "            <tr>\n",
       "                        <th id=\"T_177490e6_5d52_11ec_8fb7_d51dd1dd9a58level0_row14\" class=\"row_heading level0 row14\" >17</th>\n",
       "                        <td id=\"T_177490e6_5d52_11ec_8fb7_d51dd1dd9a58row14_col0\" class=\"data row14 col0\" >precision_score</td>\n",
       "                        <td id=\"T_177490e6_5d52_11ec_8fb7_d51dd1dd9a58row14_col1\" class=\"data row14 col1\" >Extra Trees</td>\n",
       "                        <td id=\"T_177490e6_5d52_11ec_8fb7_d51dd1dd9a58row14_col2\" class=\"data row14 col2\" >1.000000</td>\n",
       "                        <td id=\"T_177490e6_5d52_11ec_8fb7_d51dd1dd9a58row14_col3\" class=\"data row14 col3\" >0.720396</td>\n",
       "            </tr>\n",
       "            <tr>\n",
       "                        <th id=\"T_177490e6_5d52_11ec_8fb7_d51dd1dd9a58level0_row15\" class=\"row_heading level0 row15\" >13</th>\n",
       "                        <td id=\"T_177490e6_5d52_11ec_8fb7_d51dd1dd9a58row15_col0\" class=\"data row15 col0\" >precision_score</td>\n",
       "                        <td id=\"T_177490e6_5d52_11ec_8fb7_d51dd1dd9a58row15_col1\" class=\"data row15 col1\" >Random Forest</td>\n",
       "                        <td id=\"T_177490e6_5d52_11ec_8fb7_d51dd1dd9a58row15_col2\" class=\"data row15 col2\" >0.999967</td>\n",
       "                        <td id=\"T_177490e6_5d52_11ec_8fb7_d51dd1dd9a58row15_col3\" class=\"data row15 col3\" >0.719262</td>\n",
       "            </tr>\n",
       "            <tr>\n",
       "                        <th id=\"T_177490e6_5d52_11ec_8fb7_d51dd1dd9a58level0_row16\" class=\"row_heading level0 row16\" >1</th>\n",
       "                        <td id=\"T_177490e6_5d52_11ec_8fb7_d51dd1dd9a58row16_col0\" class=\"data row16 col0\" >precision_score</td>\n",
       "                        <td id=\"T_177490e6_5d52_11ec_8fb7_d51dd1dd9a58row16_col1\" class=\"data row16 col1\" >Decision Tree</td>\n",
       "                        <td id=\"T_177490e6_5d52_11ec_8fb7_d51dd1dd9a58row16_col2\" class=\"data row16 col2\" >1.000000</td>\n",
       "                        <td id=\"T_177490e6_5d52_11ec_8fb7_d51dd1dd9a58row16_col3\" class=\"data row16 col3\" >0.712282</td>\n",
       "            </tr>\n",
       "            <tr>\n",
       "                        <th id=\"T_177490e6_5d52_11ec_8fb7_d51dd1dd9a58level0_row17\" class=\"row_heading level0 row17\" >21</th>\n",
       "                        <td id=\"T_177490e6_5d52_11ec_8fb7_d51dd1dd9a58row17_col0\" class=\"data row17 col0\" >precision_score</td>\n",
       "                        <td id=\"T_177490e6_5d52_11ec_8fb7_d51dd1dd9a58row17_col1\" class=\"data row17 col1\" >RF random search</td>\n",
       "                        <td id=\"T_177490e6_5d52_11ec_8fb7_d51dd1dd9a58row17_col2\" class=\"data row17 col2\" >0.738471</td>\n",
       "                        <td id=\"T_177490e6_5d52_11ec_8fb7_d51dd1dd9a58row17_col3\" class=\"data row17 col3\" >0.706462</td>\n",
       "            </tr>\n",
       "            <tr>\n",
       "                        <th id=\"T_177490e6_5d52_11ec_8fb7_d51dd1dd9a58level0_row18\" class=\"row_heading level0 row18\" >23</th>\n",
       "                        <td id=\"T_177490e6_5d52_11ec_8fb7_d51dd1dd9a58row18_col0\" class=\"data row18 col0\" >accuracy_score</td>\n",
       "                        <td id=\"T_177490e6_5d52_11ec_8fb7_d51dd1dd9a58row18_col1\" class=\"data row18 col1\" >RF random search</td>\n",
       "                        <td id=\"T_177490e6_5d52_11ec_8fb7_d51dd1dd9a58row18_col2\" class=\"data row18 col2\" >0.749160</td>\n",
       "                        <td id=\"T_177490e6_5d52_11ec_8fb7_d51dd1dd9a58row18_col3\" class=\"data row18 col3\" >0.700111</td>\n",
       "            </tr>\n",
       "            <tr>\n",
       "                        <th id=\"T_177490e6_5d52_11ec_8fb7_d51dd1dd9a58level0_row19\" class=\"row_heading level0 row19\" >15</th>\n",
       "                        <td id=\"T_177490e6_5d52_11ec_8fb7_d51dd1dd9a58row19_col0\" class=\"data row19 col0\" >accuracy_score</td>\n",
       "                        <td id=\"T_177490e6_5d52_11ec_8fb7_d51dd1dd9a58row19_col1\" class=\"data row19 col1\" >Random Forest</td>\n",
       "                        <td id=\"T_177490e6_5d52_11ec_8fb7_d51dd1dd9a58row19_col2\" class=\"data row19 col2\" >0.999893</td>\n",
       "                        <td id=\"T_177490e6_5d52_11ec_8fb7_d51dd1dd9a58row19_col3\" class=\"data row19 col3\" >0.685339</td>\n",
       "            </tr>\n",
       "            <tr>\n",
       "                        <th id=\"T_177490e6_5d52_11ec_8fb7_d51dd1dd9a58level0_row20\" class=\"row_heading level0 row20\" >19</th>\n",
       "                        <td id=\"T_177490e6_5d52_11ec_8fb7_d51dd1dd9a58row20_col0\" class=\"data row20 col0\" >accuracy_score</td>\n",
       "                        <td id=\"T_177490e6_5d52_11ec_8fb7_d51dd1dd9a58row20_col1\" class=\"data row20 col1\" >Extra Trees</td>\n",
       "                        <td id=\"T_177490e6_5d52_11ec_8fb7_d51dd1dd9a58row20_col2\" class=\"data row20 col2\" >0.999905</td>\n",
       "                        <td id=\"T_177490e6_5d52_11ec_8fb7_d51dd1dd9a58row20_col3\" class=\"data row20 col3\" >0.664691</td>\n",
       "            </tr>\n",
       "            <tr>\n",
       "                        <th id=\"T_177490e6_5d52_11ec_8fb7_d51dd1dd9a58level0_row21\" class=\"row_heading level0 row21\" >3</th>\n",
       "                        <td id=\"T_177490e6_5d52_11ec_8fb7_d51dd1dd9a58row21_col0\" class=\"data row21 col0\" >accuracy_score</td>\n",
       "                        <td id=\"T_177490e6_5d52_11ec_8fb7_d51dd1dd9a58row21_col1\" class=\"data row21 col1\" >Decision Tree</td>\n",
       "                        <td id=\"T_177490e6_5d52_11ec_8fb7_d51dd1dd9a58row21_col2\" class=\"data row21 col2\" >0.999905</td>\n",
       "                        <td id=\"T_177490e6_5d52_11ec_8fb7_d51dd1dd9a58row21_col3\" class=\"data row21 col3\" >0.607445</td>\n",
       "            </tr>\n",
       "            <tr>\n",
       "                        <th id=\"T_177490e6_5d52_11ec_8fb7_d51dd1dd9a58level0_row22\" class=\"row_heading level0 row22\" >7</th>\n",
       "                        <td id=\"T_177490e6_5d52_11ec_8fb7_d51dd1dd9a58row22_col0\" class=\"data row22 col0\" >accuracy_score</td>\n",
       "                        <td id=\"T_177490e6_5d52_11ec_8fb7_d51dd1dd9a58row22_col1\" class=\"data row22 col1\" >LogReg</td>\n",
       "                        <td id=\"T_177490e6_5d52_11ec_8fb7_d51dd1dd9a58row22_col2\" class=\"data row22 col2\" >0.594448</td>\n",
       "                        <td id=\"T_177490e6_5d52_11ec_8fb7_d51dd1dd9a58row22_col3\" class=\"data row22 col3\" >0.595342</td>\n",
       "            </tr>\n",
       "            <tr>\n",
       "                        <th id=\"T_177490e6_5d52_11ec_8fb7_d51dd1dd9a58level0_row23\" class=\"row_heading level0 row23\" >11</th>\n",
       "                        <td id=\"T_177490e6_5d52_11ec_8fb7_d51dd1dd9a58row23_col0\" class=\"data row23 col0\" >accuracy_score</td>\n",
       "                        <td id=\"T_177490e6_5d52_11ec_8fb7_d51dd1dd9a58row23_col1\" class=\"data row23 col1\" >LogReg scaled</td>\n",
       "                        <td id=\"T_177490e6_5d52_11ec_8fb7_d51dd1dd9a58row23_col2\" class=\"data row23 col2\" >0.594448</td>\n",
       "                        <td id=\"T_177490e6_5d52_11ec_8fb7_d51dd1dd9a58row23_col3\" class=\"data row23 col3\" >0.595342</td>\n",
       "            </tr>\n",
       "    </tbody></table>"
      ],
      "text/plain": [
       "<pandas.io.formats.style.Styler at 0x7f557b96b490>"
      ]
     },
     "execution_count": 65,
     "metadata": {},
     "output_type": "execute_result"
    }
   ],
   "source": [
    "df.append(res)\n",
    "df.show()"
   ]
  },
  {
   "cell_type": "code",
   "execution_count": 66,
   "metadata": {},
   "outputs": [
    {
     "name": "stdout",
     "output_type": "stream",
     "text": [
      "[21:54:24] WARNING: ../src/learner.cc:1115: Starting in XGBoost 1.3.0, the default evaluation metric used with the objective 'binary:logistic' was changed from 'error' to 'logloss'. Explicitly set eval_metric if you'd like to restore the old behavior.\n"
     ]
    }
   ],
   "source": [
    "# training XGBoost model for comparison\n",
    "\n",
    "param = {'alpha':1, 'eta':0.5, 'objective':'binary:logistic'}\n",
    "num_round = 100\n",
    "\n",
    "dtrain = xgb.DMatrix(X_train, label=y_train)\n",
    "dtest = xgb.DMatrix(X_test, label=y_test)\n",
    "\n",
    "bst = xgb.train(param, dtrain, num_round)\n",
    "# make prediction\n",
    "soft_preds = bst.predict(dtest)\n",
    "preds = (soft_preds>0.5).astype(int)"
   ]
  },
  {
   "cell_type": "code",
   "execution_count": 67,
   "metadata": {},
   "outputs": [
    {
     "data": {
      "text/plain": [
       "0.8033477100020538"
      ]
     },
     "execution_count": 67,
     "metadata": {},
     "output_type": "execute_result"
    }
   ],
   "source": [
    "f1_score(y_test, preds)"
   ]
  },
  {
   "cell_type": "code",
   "execution_count": 68,
   "metadata": {},
   "outputs": [
    {
     "data": {
      "image/png": "[encoded data removed]",
      "text/plain": [
       "<Figure size 432x288 with 2 Axes>"
      ]
     },
     "metadata": {
      "needs_background": "light"
     },
     "output_type": "display_data"
    }
   ],
   "source": [
    "plot_confusion_matrix(y_test, preds,[0,1])"
   ]
  },
  {
   "cell_type": "markdown",
   "metadata": {},
   "source": [
    "## 4. Validating oversampling and feature engineering"
   ]
  },
  {
   "cell_type": "code",
   "execution_count": 82,
   "metadata": {},
   "outputs": [
    {
     "name": "stdout",
     "output_type": "stream",
     "text": [
      "Accuracy: 0.6696892378148511\n",
      "Precision: 0.7636696813855884\n",
      "Recall: 0.7452266041109851\n",
      "F1 score: 0.754335428871718\n"
     ]
    },
    {
     "data": {
      "image/png": "[encoded data removed]",
      "text/plain": [
       "<Figure size 432x288 with 2 Axes>"
      ]
     },
     "metadata": {
      "needs_background": "light"
     },
     "output_type": "display_data"
    }
   ],
   "source": [
    "# oversampling data worsened f1 score\n",
    "\n",
    "model = rf_random.best_estimator_\n",
    "model.fit(X_train_os, y_train_os)\n",
    "predictions = model.predict(X_test)\n",
    "\n",
    "print(\"Accuracy:\", accuracy_score(y_test, predictions))    \n",
    "print(\"Precision:\", precision_score(y_test, predictions))    \n",
    "print(\"Recall:\", recall_score(y_test, predictions))\n",
    "print(\"F1 score:\", f1_score(y_test, predictions))\n",
    "\n",
    "plot_confusion_matrix(y_test, predictions, model.classes_)"
   ]
  },
  {
   "cell_type": "code",
   "execution_count": 97,
   "metadata": {},
   "outputs": [
    {
     "data": {
      "text/html": [
       "<div>\n",
       "<style scoped>\n",
       "    .dataframe tbody tr th:only-of-type {\n",
       "        vertical-align: middle;\n",
       "    }\n",
       "\n",
       "    .dataframe tbody tr th {\n",
       "        vertical-align: top;\n",
       "    }\n",
       "\n",
       "    .dataframe thead th {\n",
       "        text-align: right;\n",
       "    }\n",
       "</style>\n",
       "<table border=\"1\" class=\"dataframe\">\n",
       "  <thead>\n",
       "    <tr style=\"text-align: right;\">\n",
       "      <th></th>\n",
       "      <th>0</th>\n",
       "      <th>1</th>\n",
       "    </tr>\n",
       "  </thead>\n",
       "  <tbody>\n",
       "    <tr>\n",
       "      <th>4</th>\n",
       "      <td>admission_deposit</td>\n",
       "      <td>0.146717</td>\n",
       "    </tr>\n",
       "    <tr>\n",
       "      <th>3</th>\n",
       "      <td>severity</td>\n",
       "      <td>0.086180</td>\n",
       "    </tr>\n",
       "    <tr>\n",
       "      <th>47</th>\n",
       "      <td>patient_city_code_16.0</td>\n",
       "      <td>0.086100</td>\n",
       "    </tr>\n",
       "    <tr>\n",
       "      <th>6</th>\n",
       "      <td>visit_number</td>\n",
       "      <td>0.076023</td>\n",
       "    </tr>\n",
       "    <tr>\n",
       "      <th>2</th>\n",
       "      <td>bed_grade</td>\n",
       "      <td>0.069653</td>\n",
       "    </tr>\n",
       "    <tr>\n",
       "      <th>0</th>\n",
       "      <td>hospital_code</td>\n",
       "      <td>0.067901</td>\n",
       "    </tr>\n",
       "    <tr>\n",
       "      <th>5</th>\n",
       "      <td>same_city</td>\n",
       "      <td>0.060639</td>\n",
       "    </tr>\n",
       "    <tr>\n",
       "      <th>1</th>\n",
       "      <td>extra_rooms</td>\n",
       "      <td>0.049047</td>\n",
       "    </tr>\n",
       "    <tr>\n",
       "      <th>15</th>\n",
       "      <td>hospital_city_code_6</td>\n",
       "      <td>0.046379</td>\n",
       "    </tr>\n",
       "    <tr>\n",
       "      <th>38</th>\n",
       "      <td>patient_city_code_7.0</td>\n",
       "      <td>0.030728</td>\n",
       "    </tr>\n",
       "  </tbody>\n",
       "</table>\n",
       "</div>"
      ],
      "text/plain": [
       "                         0         1\n",
       "4        admission_deposit  0.146717\n",
       "3                 severity  0.086180\n",
       "47  patient_city_code_16.0  0.086100\n",
       "6             visit_number  0.076023\n",
       "2                bed_grade  0.069653\n",
       "0            hospital_code  0.067901\n",
       "5                same_city  0.060639\n",
       "1              extra_rooms  0.049047\n",
       "15    hospital_city_code_6  0.046379\n",
       "38   patient_city_code_7.0  0.030728"
      ]
     },
     "execution_count": 97,
     "metadata": {},
     "output_type": "execute_result"
    }
   ],
   "source": [
    "# Feature importances\n",
    "\n",
    "pd.DataFrame(list(zip(X_train.columns, rf_random.best_estimator_.feature_importances_))).sort_values(by=1,\n",
    "                                                                                            ascending=False).head(10)"
   ]
  },
  {
   "cell_type": "code",
   "execution_count": 96,
   "metadata": {},
   "outputs": [
    {
     "name": "stdout",
     "output_type": "stream",
     "text": [
      "Accuracy: 0.7002551521099116\n",
      "Precision: 0.7067072044553682\n",
      "Recall: 0.9564673986194167\n",
      "F1 score: 0.8128339624491396\n"
     ]
    },
    {
     "data": {
      "image/png": "[encoded data removed]",
      "text/plain": [
       "<Figure size 432x288 with 2 Axes>"
      ]
     },
     "metadata": {
      "needs_background": "light"
     },
     "output_type": "display_data"
    }
   ],
   "source": [
    "# the \"same city\" variable seemed to decrease performance too\n",
    "\n",
    "rf_random.best_estimator_.fit(X_train.drop('same_city', axis=1), y_train)\n",
    "predictions = rf_random.best_estimator_.predict(X_test.drop('same_city', axis=1))\n",
    "\n",
    "print(\"Accuracy:\", accuracy_score(y_test, predictions))    \n",
    "print(\"Precision:\", precision_score(y_test, predictions))    \n",
    "print(\"Recall:\", recall_score(y_test, predictions))\n",
    "print(\"F1 score:\", f1_score(y_test, predictions))\n",
    "\n",
    "plot_confusion_matrix(y_test, predictions, [0,1])"
   ]
  },
  {
   "cell_type": "markdown",
   "metadata": {},
   "source": [
    "## 5. Holdout set results"
   ]
  },
  {
   "cell_type": "code",
   "execution_count": 98,
   "metadata": {},
   "outputs": [
    {
     "name": "stdout",
     "output_type": "stream",
     "text": [
      "Accuracy: 0.6979493782188168\n",
      "Precision: 0.7039569441153573\n",
      "Recall: 0.9597360345185629\n",
      "F1 score: 0.812184525262387\n"
     ]
    },
    {
     "data": {
      "image/png": "[encoded data removed]",
      "text/plain": [
       "<Figure size 432x288 with 2 Axes>"
      ]
     },
     "metadata": {
      "needs_background": "light"
     },
     "output_type": "display_data"
    }
   ],
   "source": [
    "rf_random.best_estimator_.fit(X_train.drop('same_city', axis=1), y_train)\n",
    "predictions = rf_random.best_estimator_.predict(holdout.drop('same_city', axis=1))\n",
    "\n",
    "print(\"Accuracy:\", accuracy_score(y_holdout, predictions))    \n",
    "print(\"Precision:\", precision_score(y_holdout, predictions))    \n",
    "print(\"Recall:\", recall_score(y_holdout, predictions))\n",
    "print(\"F1 score:\", f1_score(y_holdout, predictions))\n",
    "\n",
    "plot_confusion_matrix(y_holdout, predictions, [0,1])"
   ]
  }
 ],
 "metadata": {
  "kernelspec": {
   "display_name": "Python 3",
   "language": "python",
   "name": "python3"
  },
  "language_info": {
   "codemirror_mode": {
    "name": "ipython",
    "version": 3
   },
   "file_extension": ".py",
   "mimetype": "text/x-python",
   "name": "python",
   "nbconvert_exporter": "python",
   "pygments_lexer": "ipython3",
   "version": "3.8.10"
  }
 },
 "nbformat": 4,
 "nbformat_minor": 4
}
